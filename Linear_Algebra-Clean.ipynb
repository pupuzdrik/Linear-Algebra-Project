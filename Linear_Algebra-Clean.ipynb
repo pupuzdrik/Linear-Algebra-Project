{
 "cells": [
  {
   "cell_type": "markdown",
   "metadata": {},
   "source": [
    "# Statement"
   ]
  },
  {
   "cell_type": "markdown",
   "metadata": {},
   "source": [
    "The Sure Tomorrow insurance company wants to solve several tasks with the help of Machine Learning and you are asked to evaluate that possibility.\n",
    "\n",
    "- Task 1: Find customers who are similar to a given customer. This will help the company's agents with marketing.\n",
    "- Task 2: Predict whether a new customer is likely to receive an insurance benefit. Can a prediction model do better than a dummy model?\n",
    "- Task 3: Predict the number of insurance benefits a new customer is likely to receive using a linear regression model.\n",
    "- Task 4: Protect clients' personal data without breaking the model from the previous task. It's necessary to develop a data transformation algorithm that would make it hard to recover personal information if the data fell into the wrong hands. This is called data masking, or data obfuscation. But the data should be protected in such a way that the quality of machine learning models doesn't suffer. You don't need to pick the best model, just prove that the algorithm works correctly."
   ]
  },
  {
   "cell_type": "markdown",
   "metadata": {},
   "source": [
    "# Data Preprocessing & Exploration\n",
    "\n",
    "## Initialization"
   ]
  },
  {
   "cell_type": "code",
   "execution_count": 86,
   "metadata": {
    "scrolled": true
   },
   "outputs": [
    {
     "name": "stdout",
     "output_type": "stream",
     "text": [
      "\u001b[33mWARNING: Ignoring invalid distribution -cikit-learn (/opt/conda/lib/python3.9/site-packages)\u001b[0m\n",
      "\u001b[33mWARNING: Ignoring invalid distribution -cikit-learn (/opt/conda/lib/python3.9/site-packages)\u001b[0m\n",
      "Requirement already satisfied: scikit-learn in /opt/conda/lib/python3.9/site-packages (0.24.1)\n",
      "Collecting scikit-learn\n",
      "  Using cached scikit_learn-1.1.1-cp39-cp39-manylinux_2_17_x86_64.manylinux2014_x86_64.whl (30.8 MB)\n",
      "Requirement already satisfied: threadpoolctl>=2.0.0 in /opt/conda/lib/python3.9/site-packages (from scikit-learn) (3.1.0)\n",
      "Requirement already satisfied: numpy>=1.17.3 in /opt/conda/lib/python3.9/site-packages (from scikit-learn) (1.22.3)\n",
      "Requirement already satisfied: joblib>=1.0.0 in /opt/conda/lib/python3.9/site-packages (from scikit-learn) (1.1.0)\n",
      "Requirement already satisfied: scipy>=1.3.2 in /opt/conda/lib/python3.9/site-packages (from scikit-learn) (1.8.0)\n",
      "\u001b[33mWARNING: Ignoring invalid distribution -cikit-learn (/opt/conda/lib/python3.9/site-packages)\u001b[0m\n",
      "Installing collected packages: scikit-learn\n",
      "  Attempting uninstall: scikit-learn\n",
      "\u001b[33m    WARNING: Ignoring invalid distribution -cikit-learn (/opt/conda/lib/python3.9/site-packages)\u001b[0m\n",
      "    Found existing installation: scikit-learn 0.24.1\n",
      "    Uninstalling scikit-learn-0.24.1:\n",
      "\u001b[31mERROR: Could not install packages due to an OSError: [Errno 13] Permission denied: 'COPYING'\n",
      "Consider using the `--user` option or check the permissions.\n",
      "\u001b[0m\n",
      "\u001b[33mWARNING: Ignoring invalid distribution -cikit-learn (/opt/conda/lib/python3.9/site-packages)\u001b[0m\n",
      "\u001b[33mWARNING: Ignoring invalid distribution -cikit-learn (/opt/conda/lib/python3.9/site-packages)\u001b[0m\n",
      "\u001b[33mWARNING: Ignoring invalid distribution -cikit-learn (/opt/conda/lib/python3.9/site-packages)\u001b[0m\n",
      "Note: you may need to restart the kernel to use updated packages.\n"
     ]
    }
   ],
   "source": [
    "pip install scikit-learn --upgrade"
   ]
  },
  {
   "cell_type": "code",
   "execution_count": 87,
   "metadata": {},
   "outputs": [
    {
     "name": "stdout",
     "output_type": "stream",
     "text": [
      "\u001b[33mWARNING: Ignoring invalid distribution - (/opt/conda/lib/python3.9/site-packages)\u001b[0m\n",
      "\u001b[33mWARNING: Ignoring invalid distribution -cikit-learn (/opt/conda/lib/python3.9/site-packages)\u001b[0m\n",
      "\u001b[33mWARNING: Ignoring invalid distribution - (/opt/conda/lib/python3.9/site-packages)\u001b[0m\n",
      "\u001b[33mWARNING: Ignoring invalid distribution -cikit-learn (/opt/conda/lib/python3.9/site-packages)\u001b[0m\n",
      "Requirement already satisfied: sidetable in /opt/conda/lib/python3.9/site-packages (0.9.0)\n",
      "Requirement already satisfied: pandas>=1.0 in /opt/conda/lib/python3.9/site-packages (from sidetable) (1.2.4)\n",
      "Requirement already satisfied: python-dateutil>=2.7.3 in /opt/conda/lib/python3.9/site-packages (from pandas>=1.0->sidetable) (2.8.2)\n",
      "Requirement already satisfied: pytz>=2017.3 in /opt/conda/lib/python3.9/site-packages (from pandas>=1.0->sidetable) (2021.3)\n",
      "Requirement already satisfied: numpy>=1.16.5 in /opt/conda/lib/python3.9/site-packages (from pandas>=1.0->sidetable) (1.22.3)\n",
      "Requirement already satisfied: six>=1.5 in /opt/conda/lib/python3.9/site-packages (from python-dateutil>=2.7.3->pandas>=1.0->sidetable) (1.16.0)\n",
      "\u001b[33mWARNING: Ignoring invalid distribution - (/opt/conda/lib/python3.9/site-packages)\u001b[0m\n",
      "\u001b[33mWARNING: Ignoring invalid distribution -cikit-learn (/opt/conda/lib/python3.9/site-packages)\u001b[0m\n",
      "\u001b[33mWARNING: Ignoring invalid distribution - (/opt/conda/lib/python3.9/site-packages)\u001b[0m\n",
      "\u001b[33mWARNING: Ignoring invalid distribution -cikit-learn (/opt/conda/lib/python3.9/site-packages)\u001b[0m\n",
      "\u001b[33mWARNING: Ignoring invalid distribution - (/opt/conda/lib/python3.9/site-packages)\u001b[0m\n",
      "\u001b[33mWARNING: Ignoring invalid distribution -cikit-learn (/opt/conda/lib/python3.9/site-packages)\u001b[0m\n",
      "\u001b[33mWARNING: Ignoring invalid distribution - (/opt/conda/lib/python3.9/site-packages)\u001b[0m\n",
      "\u001b[33mWARNING: Ignoring invalid distribution -cikit-learn (/opt/conda/lib/python3.9/site-packages)\u001b[0m\n"
     ]
    }
   ],
   "source": [
    "import numpy as np\n",
    "import pandas as pd\n",
    "\n",
    "import seaborn as sns\n",
    "\n",
    "import sklearn.linear_model\n",
    "import sklearn.metrics\n",
    "import sklearn.neighbors\n",
    "import sklearn.preprocessing\n",
    "from sklearn.neighbors import NearestNeighbors\n",
    "\n",
    "from sklearn.model_selection import train_test_split\n",
    "\n",
    "from IPython.display import display\n",
    "\n",
    "!pip install sidetable\n",
    "import sidetable as stb\n",
    "\n",
    "import matplotlib.pyplot as plt\n",
    "\n"
   ]
  },
  {
   "cell_type": "markdown",
   "metadata": {},
   "source": [
    "## Load Data"
   ]
  },
  {
   "cell_type": "markdown",
   "metadata": {},
   "source": [
    "Load data and conduct a basic check that it's free from obvious issues."
   ]
  },
  {
   "cell_type": "code",
   "execution_count": 88,
   "metadata": {},
   "outputs": [],
   "source": [
    "df = pd.read_csv('/datasets/insurance_us.csv')"
   ]
  },
  {
   "cell_type": "markdown",
   "metadata": {},
   "source": [
    "We rename the colums to make the code look more consistent with its style."
   ]
  },
  {
   "cell_type": "code",
   "execution_count": 89,
   "metadata": {},
   "outputs": [],
   "source": [
    "df = df.rename(columns={'Gender': 'gender', 'Age': 'age', 'Salary': 'income', 'Family members': 'family_members', 'Insurance benefits': 'insurance_benefits'})"
   ]
  },
  {
   "cell_type": "code",
   "execution_count": 90,
   "metadata": {},
   "outputs": [
    {
     "data": {
      "text/html": [
       "<div>\n",
       "<style scoped>\n",
       "    .dataframe tbody tr th:only-of-type {\n",
       "        vertical-align: middle;\n",
       "    }\n",
       "\n",
       "    .dataframe tbody tr th {\n",
       "        vertical-align: top;\n",
       "    }\n",
       "\n",
       "    .dataframe thead th {\n",
       "        text-align: right;\n",
       "    }\n",
       "</style>\n",
       "<table border=\"1\" class=\"dataframe\">\n",
       "  <thead>\n",
       "    <tr style=\"text-align: right;\">\n",
       "      <th></th>\n",
       "      <th>gender</th>\n",
       "      <th>age</th>\n",
       "      <th>income</th>\n",
       "      <th>family_members</th>\n",
       "      <th>insurance_benefits</th>\n",
       "    </tr>\n",
       "  </thead>\n",
       "  <tbody>\n",
       "    <tr>\n",
       "      <th>2781</th>\n",
       "      <td>0</td>\n",
       "      <td>21.0</td>\n",
       "      <td>51600.0</td>\n",
       "      <td>3</td>\n",
       "      <td>0</td>\n",
       "    </tr>\n",
       "    <tr>\n",
       "      <th>1999</th>\n",
       "      <td>1</td>\n",
       "      <td>34.0</td>\n",
       "      <td>42300.0</td>\n",
       "      <td>3</td>\n",
       "      <td>0</td>\n",
       "    </tr>\n",
       "    <tr>\n",
       "      <th>168</th>\n",
       "      <td>0</td>\n",
       "      <td>30.0</td>\n",
       "      <td>37300.0</td>\n",
       "      <td>0</td>\n",
       "      <td>0</td>\n",
       "    </tr>\n",
       "    <tr>\n",
       "      <th>561</th>\n",
       "      <td>0</td>\n",
       "      <td>19.0</td>\n",
       "      <td>42100.0</td>\n",
       "      <td>1</td>\n",
       "      <td>0</td>\n",
       "    </tr>\n",
       "    <tr>\n",
       "      <th>2621</th>\n",
       "      <td>0</td>\n",
       "      <td>31.0</td>\n",
       "      <td>29400.0</td>\n",
       "      <td>2</td>\n",
       "      <td>0</td>\n",
       "    </tr>\n",
       "    <tr>\n",
       "      <th>1340</th>\n",
       "      <td>1</td>\n",
       "      <td>20.0</td>\n",
       "      <td>37400.0</td>\n",
       "      <td>2</td>\n",
       "      <td>0</td>\n",
       "    </tr>\n",
       "    <tr>\n",
       "      <th>3984</th>\n",
       "      <td>1</td>\n",
       "      <td>37.0</td>\n",
       "      <td>29800.0</td>\n",
       "      <td>0</td>\n",
       "      <td>0</td>\n",
       "    </tr>\n",
       "    <tr>\n",
       "      <th>3303</th>\n",
       "      <td>0</td>\n",
       "      <td>25.0</td>\n",
       "      <td>52800.0</td>\n",
       "      <td>2</td>\n",
       "      <td>0</td>\n",
       "    </tr>\n",
       "    <tr>\n",
       "      <th>703</th>\n",
       "      <td>1</td>\n",
       "      <td>30.0</td>\n",
       "      <td>41700.0</td>\n",
       "      <td>2</td>\n",
       "      <td>0</td>\n",
       "    </tr>\n",
       "    <tr>\n",
       "      <th>1569</th>\n",
       "      <td>0</td>\n",
       "      <td>23.0</td>\n",
       "      <td>41100.0</td>\n",
       "      <td>1</td>\n",
       "      <td>0</td>\n",
       "    </tr>\n",
       "  </tbody>\n",
       "</table>\n",
       "</div>"
      ],
      "text/plain": [
       "      gender   age   income  family_members  insurance_benefits\n",
       "2781       0  21.0  51600.0               3                   0\n",
       "1999       1  34.0  42300.0               3                   0\n",
       "168        0  30.0  37300.0               0                   0\n",
       "561        0  19.0  42100.0               1                   0\n",
       "2621       0  31.0  29400.0               2                   0\n",
       "1340       1  20.0  37400.0               2                   0\n",
       "3984       1  37.0  29800.0               0                   0\n",
       "3303       0  25.0  52800.0               2                   0\n",
       "703        1  30.0  41700.0               2                   0\n",
       "1569       0  23.0  41100.0               1                   0"
      ]
     },
     "execution_count": 90,
     "metadata": {},
     "output_type": "execute_result"
    }
   ],
   "source": [
    "df.sample(10)"
   ]
  },
  {
   "cell_type": "code",
   "execution_count": 91,
   "metadata": {},
   "outputs": [
    {
     "name": "stdout",
     "output_type": "stream",
     "text": [
      "<class 'pandas.core.frame.DataFrame'>\n",
      "RangeIndex: 5000 entries, 0 to 4999\n",
      "Data columns (total 5 columns):\n",
      " #   Column              Non-Null Count  Dtype  \n",
      "---  ------              --------------  -----  \n",
      " 0   gender              5000 non-null   int64  \n",
      " 1   age                 5000 non-null   float64\n",
      " 2   income              5000 non-null   float64\n",
      " 3   family_members      5000 non-null   int64  \n",
      " 4   insurance_benefits  5000 non-null   int64  \n",
      "dtypes: float64(2), int64(3)\n",
      "memory usage: 195.4 KB\n"
     ]
    }
   ],
   "source": [
    "df.info()"
   ]
  },
  {
   "cell_type": "code",
   "execution_count": 92,
   "metadata": {},
   "outputs": [
    {
     "data": {
      "text/html": [
       "<div>\n",
       "<style scoped>\n",
       "    .dataframe tbody tr th:only-of-type {\n",
       "        vertical-align: middle;\n",
       "    }\n",
       "\n",
       "    .dataframe tbody tr th {\n",
       "        vertical-align: top;\n",
       "    }\n",
       "\n",
       "    .dataframe thead th {\n",
       "        text-align: right;\n",
       "    }\n",
       "</style>\n",
       "<table border=\"1\" class=\"dataframe\">\n",
       "  <thead>\n",
       "    <tr style=\"text-align: right;\">\n",
       "      <th></th>\n",
       "      <th>gender</th>\n",
       "      <th>age</th>\n",
       "      <th>income</th>\n",
       "      <th>family_members</th>\n",
       "      <th>insurance_benefits</th>\n",
       "    </tr>\n",
       "  </thead>\n",
       "  <tbody>\n",
       "    <tr>\n",
       "      <th>0</th>\n",
       "      <td>1</td>\n",
       "      <td>41</td>\n",
       "      <td>49600.0</td>\n",
       "      <td>1</td>\n",
       "      <td>0</td>\n",
       "    </tr>\n",
       "    <tr>\n",
       "      <th>1</th>\n",
       "      <td>0</td>\n",
       "      <td>46</td>\n",
       "      <td>38000.0</td>\n",
       "      <td>1</td>\n",
       "      <td>1</td>\n",
       "    </tr>\n",
       "    <tr>\n",
       "      <th>2</th>\n",
       "      <td>0</td>\n",
       "      <td>29</td>\n",
       "      <td>21000.0</td>\n",
       "      <td>0</td>\n",
       "      <td>0</td>\n",
       "    </tr>\n",
       "    <tr>\n",
       "      <th>3</th>\n",
       "      <td>0</td>\n",
       "      <td>21</td>\n",
       "      <td>41700.0</td>\n",
       "      <td>2</td>\n",
       "      <td>0</td>\n",
       "    </tr>\n",
       "    <tr>\n",
       "      <th>4</th>\n",
       "      <td>1</td>\n",
       "      <td>28</td>\n",
       "      <td>26100.0</td>\n",
       "      <td>0</td>\n",
       "      <td>0</td>\n",
       "    </tr>\n",
       "  </tbody>\n",
       "</table>\n",
       "</div>"
      ],
      "text/plain": [
       "   gender  age   income  family_members  insurance_benefits\n",
       "0       1   41  49600.0               1                   0\n",
       "1       0   46  38000.0               1                   1\n",
       "2       0   29  21000.0               0                   0\n",
       "3       0   21  41700.0               2                   0\n",
       "4       1   28  26100.0               0                   0"
      ]
     },
     "execution_count": 92,
     "metadata": {},
     "output_type": "execute_result"
    }
   ],
   "source": [
    "# we may want to fix the age type (from float to int) though this is not critical\n",
    "\n",
    "# write your conversion here if you choose:\n",
    "\n",
    "df.age=df.age.astype(int)\n",
    "df.head()"
   ]
  },
  {
   "cell_type": "code",
   "execution_count": 93,
   "metadata": {},
   "outputs": [
    {
     "name": "stdout",
     "output_type": "stream",
     "text": [
      "<class 'pandas.core.frame.DataFrame'>\n",
      "RangeIndex: 5000 entries, 0 to 4999\n",
      "Data columns (total 5 columns):\n",
      " #   Column              Non-Null Count  Dtype  \n",
      "---  ------              --------------  -----  \n",
      " 0   gender              5000 non-null   int64  \n",
      " 1   age                 5000 non-null   int64  \n",
      " 2   income              5000 non-null   float64\n",
      " 3   family_members      5000 non-null   int64  \n",
      " 4   insurance_benefits  5000 non-null   int64  \n",
      "dtypes: float64(1), int64(4)\n",
      "memory usage: 195.4 KB\n"
     ]
    }
   ],
   "source": [
    "# check to see that the conversion was successful\n",
    "df.info()"
   ]
  },
  {
   "cell_type": "code",
   "execution_count": 94,
   "metadata": {},
   "outputs": [
    {
     "data": {
      "text/plain": [
       "(5000, 5)"
      ]
     },
     "execution_count": 94,
     "metadata": {},
     "output_type": "execute_result"
    }
   ],
   "source": [
    "# now have a look at the data's descriptive statistics. \n",
    "# Does everything look okay?\n",
    "df.shape"
   ]
  },
  {
   "cell_type": "code",
   "execution_count": 95,
   "metadata": {},
   "outputs": [
    {
     "data": {
      "text/plain": [
       "153"
      ]
     },
     "execution_count": 95,
     "metadata": {},
     "output_type": "execute_result"
    }
   ],
   "source": [
    "df.duplicated().sum()"
   ]
  },
  {
   "cell_type": "markdown",
   "metadata": {},
   "source": [
    "So, there are 153 duplicated rows that needs to be removed."
   ]
  },
  {
   "cell_type": "code",
   "execution_count": 96,
   "metadata": {},
   "outputs": [
    {
     "data": {
      "text/plain": [
       "0"
      ]
     },
     "execution_count": 96,
     "metadata": {},
     "output_type": "execute_result"
    }
   ],
   "source": [
    "df=df.drop_duplicates()\n",
    "df.duplicated().sum()"
   ]
  },
  {
   "cell_type": "code",
   "execution_count": 97,
   "metadata": {},
   "outputs": [
    {
     "data": {
      "text/plain": [
       "(4847, 5)"
      ]
     },
     "execution_count": 97,
     "metadata": {},
     "output_type": "execute_result"
    }
   ],
   "source": [
    "df.shape"
   ]
  },
  {
   "cell_type": "code",
   "execution_count": 98,
   "metadata": {},
   "outputs": [
    {
     "data": {
      "text/html": [
       "<div>\n",
       "<style scoped>\n",
       "    .dataframe tbody tr th:only-of-type {\n",
       "        vertical-align: middle;\n",
       "    }\n",
       "\n",
       "    .dataframe tbody tr th {\n",
       "        vertical-align: top;\n",
       "    }\n",
       "\n",
       "    .dataframe thead th {\n",
       "        text-align: right;\n",
       "    }\n",
       "</style>\n",
       "<table border=\"1\" class=\"dataframe\">\n",
       "  <thead>\n",
       "    <tr style=\"text-align: right;\">\n",
       "      <th></th>\n",
       "      <th>gender</th>\n",
       "      <th>age</th>\n",
       "      <th>income</th>\n",
       "      <th>family_members</th>\n",
       "      <th>insurance_benefits</th>\n",
       "    </tr>\n",
       "  </thead>\n",
       "  <tbody>\n",
       "    <tr>\n",
       "      <th>4842</th>\n",
       "      <td>0</td>\n",
       "      <td>28</td>\n",
       "      <td>35700.0</td>\n",
       "      <td>2</td>\n",
       "      <td>0</td>\n",
       "    </tr>\n",
       "    <tr>\n",
       "      <th>4843</th>\n",
       "      <td>0</td>\n",
       "      <td>34</td>\n",
       "      <td>52400.0</td>\n",
       "      <td>1</td>\n",
       "      <td>0</td>\n",
       "    </tr>\n",
       "    <tr>\n",
       "      <th>4844</th>\n",
       "      <td>0</td>\n",
       "      <td>20</td>\n",
       "      <td>33900.0</td>\n",
       "      <td>2</td>\n",
       "      <td>0</td>\n",
       "    </tr>\n",
       "    <tr>\n",
       "      <th>4845</th>\n",
       "      <td>1</td>\n",
       "      <td>22</td>\n",
       "      <td>32700.0</td>\n",
       "      <td>3</td>\n",
       "      <td>0</td>\n",
       "    </tr>\n",
       "    <tr>\n",
       "      <th>4846</th>\n",
       "      <td>1</td>\n",
       "      <td>28</td>\n",
       "      <td>40600.0</td>\n",
       "      <td>1</td>\n",
       "      <td>0</td>\n",
       "    </tr>\n",
       "  </tbody>\n",
       "</table>\n",
       "</div>"
      ],
      "text/plain": [
       "      gender  age   income  family_members  insurance_benefits\n",
       "4842       0   28  35700.0               2                   0\n",
       "4843       0   34  52400.0               1                   0\n",
       "4844       0   20  33900.0               2                   0\n",
       "4845       1   22  32700.0               3                   0\n",
       "4846       1   28  40600.0               1                   0"
      ]
     },
     "execution_count": 98,
     "metadata": {},
     "output_type": "execute_result"
    }
   ],
   "source": [
    "df.reset_index(drop=True,inplace=True)\n",
    "df.tail()"
   ]
  },
  {
   "cell_type": "markdown",
   "metadata": {},
   "source": [
    "duplicated data has removed."
   ]
  },
  {
   "cell_type": "code",
   "execution_count": 99,
   "metadata": {},
   "outputs": [
    {
     "data": {
      "text/html": [
       "<style  type=\"text/css\" >\n",
       "</style><table id=\"T_5a579_\" ><thead>    <tr>        <th class=\"blank level0\" ></th>        <th class=\"col_heading level0 col0\" >missing</th>        <th class=\"col_heading level0 col1\" >total</th>        <th class=\"col_heading level0 col2\" >percent</th>    </tr></thead><tbody>\n",
       "                <tr>\n",
       "                        <th id=\"T_5a579_level0_row0\" class=\"row_heading level0 row0\" >gender</th>\n",
       "                        <td id=\"T_5a579_row0_col0\" class=\"data row0 col0\" >0</td>\n",
       "                        <td id=\"T_5a579_row0_col1\" class=\"data row0 col1\" >4,847</td>\n",
       "                        <td id=\"T_5a579_row0_col2\" class=\"data row0 col2\" >0.00%</td>\n",
       "            </tr>\n",
       "            <tr>\n",
       "                        <th id=\"T_5a579_level0_row1\" class=\"row_heading level0 row1\" >age</th>\n",
       "                        <td id=\"T_5a579_row1_col0\" class=\"data row1 col0\" >0</td>\n",
       "                        <td id=\"T_5a579_row1_col1\" class=\"data row1 col1\" >4,847</td>\n",
       "                        <td id=\"T_5a579_row1_col2\" class=\"data row1 col2\" >0.00%</td>\n",
       "            </tr>\n",
       "            <tr>\n",
       "                        <th id=\"T_5a579_level0_row2\" class=\"row_heading level0 row2\" >income</th>\n",
       "                        <td id=\"T_5a579_row2_col0\" class=\"data row2 col0\" >0</td>\n",
       "                        <td id=\"T_5a579_row2_col1\" class=\"data row2 col1\" >4,847</td>\n",
       "                        <td id=\"T_5a579_row2_col2\" class=\"data row2 col2\" >0.00%</td>\n",
       "            </tr>\n",
       "            <tr>\n",
       "                        <th id=\"T_5a579_level0_row3\" class=\"row_heading level0 row3\" >family_members</th>\n",
       "                        <td id=\"T_5a579_row3_col0\" class=\"data row3 col0\" >0</td>\n",
       "                        <td id=\"T_5a579_row3_col1\" class=\"data row3 col1\" >4,847</td>\n",
       "                        <td id=\"T_5a579_row3_col2\" class=\"data row3 col2\" >0.00%</td>\n",
       "            </tr>\n",
       "            <tr>\n",
       "                        <th id=\"T_5a579_level0_row4\" class=\"row_heading level0 row4\" >insurance_benefits</th>\n",
       "                        <td id=\"T_5a579_row4_col0\" class=\"data row4 col0\" >0</td>\n",
       "                        <td id=\"T_5a579_row4_col1\" class=\"data row4 col1\" >4,847</td>\n",
       "                        <td id=\"T_5a579_row4_col2\" class=\"data row4 col2\" >0.00%</td>\n",
       "            </tr>\n",
       "    </tbody></table>"
      ],
      "text/plain": [
       "<pandas.io.formats.style.Styler at 0x7f1a7e546e50>"
      ]
     },
     "execution_count": 99,
     "metadata": {},
     "output_type": "execute_result"
    }
   ],
   "source": [
    "df.stb.missing(style=True) #checking the missing data"
   ]
  },
  {
   "cell_type": "markdown",
   "metadata": {},
   "source": [
    "No missing data."
   ]
  },
  {
   "cell_type": "markdown",
   "metadata": {},
   "source": [
    "Let's see the plots for every feature."
   ]
  },
  {
   "cell_type": "code",
   "execution_count": 100,
   "metadata": {},
   "outputs": [
    {
     "data": {
      "image/png": "[encoded data removed]",
      "text/plain": [
       "<Figure size 432x288 with 1 Axes>"
      ]
     },
     "metadata": {
      "needs_background": "light"
     },
     "output_type": "display_data"
    }
   ],
   "source": [
    "plt.hist(df['gender'], bins = 10)\n",
    "\n",
    "plt.show()"
   ]
  },
  {
   "cell_type": "code",
   "execution_count": 101,
   "metadata": {},
   "outputs": [
    {
     "data": {
      "text/plain": [
       "0    2431\n",
       "1    2416\n",
       "Name: gender, dtype: int64"
      ]
     },
     "execution_count": 101,
     "metadata": {},
     "output_type": "execute_result"
    }
   ],
   "source": [
    "df.gender.value_counts()"
   ]
  },
  {
   "cell_type": "markdown",
   "metadata": {},
   "source": [
    "More or less we have the same number of gender category."
   ]
  },
  {
   "cell_type": "code",
   "execution_count": 102,
   "metadata": {},
   "outputs": [
    {
     "data": {
      "image/png": "[encoded data removed]",
      "text/plain": [
       "<Figure size 432x288 with 1 Axes>"
      ]
     },
     "metadata": {
      "needs_background": "light"
     },
     "output_type": "display_data"
    }
   ],
   "source": [
    "plt.hist(df['age'], bins = 50)\n",
    "\n",
    "plt.show()"
   ]
  },
  {
   "cell_type": "markdown",
   "metadata": {},
   "source": [
    "There are more young population then old one."
   ]
  },
  {
   "cell_type": "code",
   "execution_count": 103,
   "metadata": {},
   "outputs": [
    {
     "data": {
      "image/png": "[encoded data removed]",
      "text/plain": [
       "<Figure size 432x288 with 1 Axes>"
      ]
     },
     "metadata": {
      "needs_background": "light"
     },
     "output_type": "display_data"
    }
   ],
   "source": [
    "plt.hist(df['income'], bins = 50)\n",
    "\n",
    "plt.show()"
   ]
  },
  {
   "cell_type": "code",
   "execution_count": 104,
   "metadata": {
    "scrolled": true
   },
   "outputs": [
    {
     "data": {
      "image/png": "[encoded data removed]",
      "text/plain": [
       "<Figure size 432x288 with 1 Axes>"
      ]
     },
     "metadata": {
      "needs_background": "light"
     },
     "output_type": "display_data"
    }
   ],
   "source": [
    "plt.hist(df['family_members'], bins = 20)\n",
    "\n",
    "plt.show()"
   ]
  },
  {
   "cell_type": "code",
   "execution_count": 105,
   "metadata": {},
   "outputs": [],
   "source": [
    "import matplotlib.pyplot as plt\n",
    "import seaborn as sns"
   ]
  },
  {
   "cell_type": "code",
   "execution_count": 106,
   "metadata": {},
   "outputs": [
    {
     "data": {
      "image/png": "[encoded data removed]",
      "text/plain": [
       "<Figure size 720x1440 with 1 Axes>"
      ]
     },
     "metadata": {
      "needs_background": "light"
     },
     "output_type": "display_data"
    }
   ],
   "source": [
    "boxplot=df.boxplot('income',figsize=(10,20))"
   ]
  },
  {
   "cell_type": "code",
   "execution_count": 107,
   "metadata": {},
   "outputs": [
    {
     "data": {
      "image/png": "[encoded data removed]",
      "text/plain": [
       "<Figure size 720x1440 with 1 Axes>"
      ]
     },
     "metadata": {
      "needs_background": "light"
     },
     "output_type": "display_data"
    }
   ],
   "source": [
    "boxplot=df.boxplot('age',figsize=(10,20))"
   ]
  },
  {
   "cell_type": "code",
   "execution_count": 108,
   "metadata": {},
   "outputs": [
    {
     "data": {
      "image/png": "[encoded data removed]",
      "text/plain": [
       "<Figure size 720x360 with 1 Axes>"
      ]
     },
     "metadata": {
      "needs_background": "light"
     },
     "output_type": "display_data"
    }
   ],
   "source": [
    "boxplot=df.boxplot('gender',figsize=(10,5))"
   ]
  },
  {
   "cell_type": "code",
   "execution_count": 109,
   "metadata": {
    "scrolled": true
   },
   "outputs": [
    {
     "data": {
      "image/png": "[encoded data removed]",
      "text/plain": [
       "<Figure size 720x1440 with 1 Axes>"
      ]
     },
     "metadata": {
      "needs_background": "light"
     },
     "output_type": "display_data"
    }
   ],
   "source": [
    "boxplot=df.boxplot('family_members',figsize=(10,20))"
   ]
  },
  {
   "cell_type": "markdown",
   "metadata": {},
   "source": [
    "Even though I see the outliers but in this case the outlier values are still good for the analysis in my opinion."
   ]
  },
  {
   "cell_type": "markdown",
   "metadata": {},
   "source": [
    "let's see the correlation between the features and target"
   ]
  },
  {
   "cell_type": "code",
   "execution_count": 110,
   "metadata": {},
   "outputs": [
    {
     "data": {
      "image/png": "[encoded data removed]",
      "text/plain": [
       "<Figure size 1080x360 with 2 Axes>"
      ]
     },
     "metadata": {
      "needs_background": "light"
     },
     "output_type": "display_data"
    }
   ],
   "source": [
    "def corr(data):\n",
    "    \n",
    "    plt.figure(figsize=(15,5))\n",
    "    ax = sns.heatmap(df.corr(), annot=True, cmap='cividis')\n",
    "    bottom, top = ax.get_ylim()\n",
    "    ax.set_ylim(bottom + 0.5, top - 0.5);\n",
    "    plt.yticks(rotation=0);\n",
    "corr(df)"
   ]
  },
  {
   "cell_type": "markdown",
   "metadata": {},
   "source": [
    "It seems that we have not so bad correaltion between age and insurance benefits, interesting. Maybe the reason is that older people has more money and more stable jobs."
   ]
  },
  {
   "cell_type": "markdown",
   "metadata": {},
   "source": [
    "## EDA"
   ]
  },
  {
   "cell_type": "markdown",
   "metadata": {},
   "source": [
    "Let's quickly check whether there are certain groups of customers by looking at the pair plot."
   ]
  },
  {
   "cell_type": "code",
   "execution_count": 111,
   "metadata": {},
   "outputs": [
    {
     "data": {
      "image/png": "[encoded data removed]",
      "text/plain": [
       "<Figure size 864x864 with 30 Axes>"
      ]
     },
     "metadata": {
      "needs_background": "light"
     },
     "output_type": "display_data"
    }
   ],
   "source": [
    "g = sns.pairplot(df, kind='hist')\n",
    "g.fig.set_size_inches(12, 12)"
   ]
  },
  {
   "cell_type": "markdown",
   "metadata": {},
   "source": [
    "Ok, it is a bit difficult to spot obvious groups (clusters) as it is difficult to combine several variables simultaneously (to analyze multivariate distributions). That's where LA and ML can be quite handy."
   ]
  },
  {
   "cell_type": "markdown",
   "metadata": {},
   "source": [
    "# Task 1. Similar Customers"
   ]
  },
  {
   "cell_type": "markdown",
   "metadata": {},
   "source": [
    "In the language of ML, it is necessary to develop a procedure that returns k nearest neighbors (objects) for a given object based on the distance between the objects.\n",
    "\n",
    "You may want to review the following lessons (chapter -> lesson)\n",
    "- Distance Between Vectors -> Euclidean Distance\n",
    "- Distance Between Vectors -> Manhattan Distance\n",
    "\n",
    "To solve the task, we can try different distance metrics."
   ]
  },
  {
   "cell_type": "markdown",
   "metadata": {},
   "source": [
    "Write a function that returns k nearest neighbors for an $n^{th}$ object based on a specified distance metric. The number of received insurance benefits should not be taken into account for this task. \n",
    "\n",
    "You can use a ready implementation of the kNN algorithm from scikit-learn (check [the link](https://scikit-learn.org/stable/modules/generated/sklearn.neighbors.NearestNeighbors.html#sklearn.neighbors.NearestNeighbors)) or use your own.\n",
    "\n",
    "Test it for four combination of two cases\n",
    "- Scaling\n",
    "  - the data is not scaled\n",
    "  - the data is scaled with the [MaxAbsScaler](https://scikit-learn.org/stable/modules/generated/sklearn.preprocessing.MaxAbsScaler.html) scaler\n",
    "- Distance Metrics\n",
    "  - Euclidean\n",
    "  - Manhattan\n",
    "\n",
    "Answer these questions:\n",
    "- Does the data being not scaled affect the kNN algorithm? If so, how does that appear?\n",
    "- How similar are the results using the Manhattan distance metric (regardless of the scaling)?"
   ]
  },
  {
   "cell_type": "code",
   "execution_count": 112,
   "metadata": {},
   "outputs": [],
   "source": [
    "feature_names = ['gender', 'age', 'income', 'family_members']"
   ]
  },
  {
   "cell_type": "code",
   "execution_count": 113,
   "metadata": {},
   "outputs": [],
   "source": [
    "def get_knn(df, n, k, metrics):\n",
    "    \n",
    "    \"\"\"\n",
    "    Returns k nearest neighbors\n",
    "\n",
    "    :param df: pandas DataFrame used to find similar objects within\n",
    "    :param n: object no for which the nearest neighbours are looked for\n",
    "    :param k: the number of the nearest neighbours to return\n",
    "    :param metric: name of distance metric\n",
    "    \"\"\"\n",
    "\n",
    "    nbrs  = NearestNeighbors(n_neighbors=k,metric=metrics)\n",
    "    nbrs.fit(df) # <your code here> \n",
    "    nbrs_distances, nbrs_indices = nbrs.kneighbors([df.iloc[n][feature_names]], k, return_distance=True)\n",
    "    \n",
    "    df_res = pd.concat([\n",
    "        df.iloc[nbrs_indices[0]], \n",
    "        pd.DataFrame(nbrs_distances.T, index=nbrs_indices[0], columns=['distance'])\n",
    "        ], axis=1)\n",
    "    \n",
    "    return df_res"
   ]
  },
  {
   "cell_type": "markdown",
   "metadata": {},
   "source": [
    "Scaling the data."
   ]
  },
  {
   "cell_type": "code",
   "execution_count": 114,
   "metadata": {},
   "outputs": [],
   "source": [
    "feature_names = ['gender', 'age', 'income', 'family_members']\n",
    "\n",
    "transformer_mas = sklearn.preprocessing.MaxAbsScaler().fit(df[feature_names].to_numpy())\n",
    "\n",
    "df_scaled = df.copy()\n",
    "df_scaled.loc[:, feature_names] = transformer_mas.transform(df[feature_names].to_numpy())"
   ]
  },
  {
   "cell_type": "code",
   "execution_count": 115,
   "metadata": {},
   "outputs": [
    {
     "data": {
      "text/html": [
       "<div>\n",
       "<style scoped>\n",
       "    .dataframe tbody tr th:only-of-type {\n",
       "        vertical-align: middle;\n",
       "    }\n",
       "\n",
       "    .dataframe tbody tr th {\n",
       "        vertical-align: top;\n",
       "    }\n",
       "\n",
       "    .dataframe thead th {\n",
       "        text-align: right;\n",
       "    }\n",
       "</style>\n",
       "<table border=\"1\" class=\"dataframe\">\n",
       "  <thead>\n",
       "    <tr style=\"text-align: right;\">\n",
       "      <th></th>\n",
       "      <th>gender</th>\n",
       "      <th>age</th>\n",
       "      <th>income</th>\n",
       "      <th>family_members</th>\n",
       "      <th>insurance_benefits</th>\n",
       "    </tr>\n",
       "  </thead>\n",
       "  <tbody>\n",
       "    <tr>\n",
       "      <th>2096</th>\n",
       "      <td>1.0</td>\n",
       "      <td>0.323077</td>\n",
       "      <td>0.421519</td>\n",
       "      <td>0.500000</td>\n",
       "      <td>0</td>\n",
       "    </tr>\n",
       "    <tr>\n",
       "      <th>4170</th>\n",
       "      <td>0.0</td>\n",
       "      <td>0.492308</td>\n",
       "      <td>0.518987</td>\n",
       "      <td>0.166667</td>\n",
       "      <td>0</td>\n",
       "    </tr>\n",
       "    <tr>\n",
       "      <th>230</th>\n",
       "      <td>0.0</td>\n",
       "      <td>0.538462</td>\n",
       "      <td>0.388608</td>\n",
       "      <td>0.000000</td>\n",
       "      <td>0</td>\n",
       "    </tr>\n",
       "    <tr>\n",
       "      <th>3299</th>\n",
       "      <td>1.0</td>\n",
       "      <td>0.723077</td>\n",
       "      <td>0.432911</td>\n",
       "      <td>0.166667</td>\n",
       "      <td>1</td>\n",
       "    </tr>\n",
       "    <tr>\n",
       "      <th>3312</th>\n",
       "      <td>1.0</td>\n",
       "      <td>0.415385</td>\n",
       "      <td>0.581013</td>\n",
       "      <td>0.166667</td>\n",
       "      <td>0</td>\n",
       "    </tr>\n",
       "  </tbody>\n",
       "</table>\n",
       "</div>"
      ],
      "text/plain": [
       "      gender       age    income  family_members  insurance_benefits\n",
       "2096     1.0  0.323077  0.421519        0.500000                   0\n",
       "4170     0.0  0.492308  0.518987        0.166667                   0\n",
       "230      0.0  0.538462  0.388608        0.000000                   0\n",
       "3299     1.0  0.723077  0.432911        0.166667                   1\n",
       "3312     1.0  0.415385  0.581013        0.166667                   0"
      ]
     },
     "execution_count": 115,
     "metadata": {},
     "output_type": "execute_result"
    }
   ],
   "source": [
    "df_scaled.sample(5)"
   ]
  },
  {
   "cell_type": "markdown",
   "metadata": {},
   "source": [
    "Now, let's get similar records for a given one for every combination"
   ]
  },
  {
   "cell_type": "markdown",
   "metadata": {},
   "source": [
    "No scaling results."
   ]
  },
  {
   "cell_type": "code",
   "execution_count": 116,
   "metadata": {},
   "outputs": [],
   "source": [
    "no_scale_euc=get_knn(df.drop(['insurance_benefits'],axis=1),1,4,'euclidean')"
   ]
  },
  {
   "cell_type": "code",
   "execution_count": 117,
   "metadata": {},
   "outputs": [
    {
     "data": {
      "text/html": [
       "<div>\n",
       "<style scoped>\n",
       "    .dataframe tbody tr th:only-of-type {\n",
       "        vertical-align: middle;\n",
       "    }\n",
       "\n",
       "    .dataframe tbody tr th {\n",
       "        vertical-align: top;\n",
       "    }\n",
       "\n",
       "    .dataframe thead th {\n",
       "        text-align: right;\n",
       "    }\n",
       "</style>\n",
       "<table border=\"1\" class=\"dataframe\">\n",
       "  <thead>\n",
       "    <tr style=\"text-align: right;\">\n",
       "      <th></th>\n",
       "      <th>gender</th>\n",
       "      <th>age</th>\n",
       "      <th>income</th>\n",
       "      <th>family_members</th>\n",
       "      <th>distance</th>\n",
       "    </tr>\n",
       "  </thead>\n",
       "  <tbody>\n",
       "    <tr>\n",
       "      <th>1</th>\n",
       "      <td>0</td>\n",
       "      <td>46</td>\n",
       "      <td>38000.0</td>\n",
       "      <td>1</td>\n",
       "      <td>0.000000</td>\n",
       "    </tr>\n",
       "    <tr>\n",
       "      <th>3810</th>\n",
       "      <td>0</td>\n",
       "      <td>40</td>\n",
       "      <td>38000.0</td>\n",
       "      <td>0</td>\n",
       "      <td>6.082763</td>\n",
       "    </tr>\n",
       "    <tr>\n",
       "      <th>4796</th>\n",
       "      <td>1</td>\n",
       "      <td>37</td>\n",
       "      <td>38000.0</td>\n",
       "      <td>1</td>\n",
       "      <td>9.055385</td>\n",
       "    </tr>\n",
       "    <tr>\n",
       "      <th>2480</th>\n",
       "      <td>1</td>\n",
       "      <td>36</td>\n",
       "      <td>38000.0</td>\n",
       "      <td>0</td>\n",
       "      <td>10.099505</td>\n",
       "    </tr>\n",
       "  </tbody>\n",
       "</table>\n",
       "</div>"
      ],
      "text/plain": [
       "      gender  age   income  family_members   distance\n",
       "1          0   46  38000.0               1   0.000000\n",
       "3810       0   40  38000.0               0   6.082763\n",
       "4796       1   37  38000.0               1   9.055385\n",
       "2480       1   36  38000.0               0  10.099505"
      ]
     },
     "execution_count": 117,
     "metadata": {},
     "output_type": "execute_result"
    }
   ],
   "source": [
    "no_scale_euc"
   ]
  },
  {
   "cell_type": "code",
   "execution_count": 118,
   "metadata": {},
   "outputs": [
    {
     "data": {
      "text/html": [
       "<div>\n",
       "<style scoped>\n",
       "    .dataframe tbody tr th:only-of-type {\n",
       "        vertical-align: middle;\n",
       "    }\n",
       "\n",
       "    .dataframe tbody tr th {\n",
       "        vertical-align: top;\n",
       "    }\n",
       "\n",
       "    .dataframe thead th {\n",
       "        text-align: right;\n",
       "    }\n",
       "</style>\n",
       "<table border=\"1\" class=\"dataframe\">\n",
       "  <thead>\n",
       "    <tr style=\"text-align: right;\">\n",
       "      <th></th>\n",
       "      <th>gender</th>\n",
       "      <th>age</th>\n",
       "      <th>income</th>\n",
       "      <th>family_members</th>\n",
       "      <th>distance</th>\n",
       "    </tr>\n",
       "  </thead>\n",
       "  <tbody>\n",
       "    <tr>\n",
       "      <th>1</th>\n",
       "      <td>0</td>\n",
       "      <td>46</td>\n",
       "      <td>38000.0</td>\n",
       "      <td>1</td>\n",
       "      <td>0.0</td>\n",
       "    </tr>\n",
       "    <tr>\n",
       "      <th>3810</th>\n",
       "      <td>0</td>\n",
       "      <td>40</td>\n",
       "      <td>38000.0</td>\n",
       "      <td>0</td>\n",
       "      <td>7.0</td>\n",
       "    </tr>\n",
       "    <tr>\n",
       "      <th>4796</th>\n",
       "      <td>1</td>\n",
       "      <td>37</td>\n",
       "      <td>38000.0</td>\n",
       "      <td>1</td>\n",
       "      <td>10.0</td>\n",
       "    </tr>\n",
       "    <tr>\n",
       "      <th>2480</th>\n",
       "      <td>1</td>\n",
       "      <td>36</td>\n",
       "      <td>38000.0</td>\n",
       "      <td>0</td>\n",
       "      <td>12.0</td>\n",
       "    </tr>\n",
       "  </tbody>\n",
       "</table>\n",
       "</div>"
      ],
      "text/plain": [
       "      gender  age   income  family_members  distance\n",
       "1          0   46  38000.0               1       0.0\n",
       "3810       0   40  38000.0               0       7.0\n",
       "4796       1   37  38000.0               1      10.0\n",
       "2480       1   36  38000.0               0      12.0"
      ]
     },
     "execution_count": 118,
     "metadata": {},
     "output_type": "execute_result"
    }
   ],
   "source": [
    "no_scale_manh=get_knn(df.drop(['insurance_benefits'],axis=1),1,4,'manhattan')\n",
    "no_scale_manh"
   ]
  },
  {
   "cell_type": "markdown",
   "metadata": {},
   "source": [
    "Scalling results."
   ]
  },
  {
   "cell_type": "code",
   "execution_count": 119,
   "metadata": {},
   "outputs": [
    {
     "data": {
      "text/html": [
       "<div>\n",
       "<style scoped>\n",
       "    .dataframe tbody tr th:only-of-type {\n",
       "        vertical-align: middle;\n",
       "    }\n",
       "\n",
       "    .dataframe tbody tr th {\n",
       "        vertical-align: top;\n",
       "    }\n",
       "\n",
       "    .dataframe thead th {\n",
       "        text-align: right;\n",
       "    }\n",
       "</style>\n",
       "<table border=\"1\" class=\"dataframe\">\n",
       "  <thead>\n",
       "    <tr style=\"text-align: right;\">\n",
       "      <th></th>\n",
       "      <th>gender</th>\n",
       "      <th>age</th>\n",
       "      <th>income</th>\n",
       "      <th>family_members</th>\n",
       "      <th>distance</th>\n",
       "    </tr>\n",
       "  </thead>\n",
       "  <tbody>\n",
       "    <tr>\n",
       "      <th>1</th>\n",
       "      <td>0.0</td>\n",
       "      <td>0.707692</td>\n",
       "      <td>0.481013</td>\n",
       "      <td>0.166667</td>\n",
       "      <td>0.000000</td>\n",
       "    </tr>\n",
       "    <tr>\n",
       "      <th>4041</th>\n",
       "      <td>0.0</td>\n",
       "      <td>0.707692</td>\n",
       "      <td>0.477215</td>\n",
       "      <td>0.166667</td>\n",
       "      <td>0.003797</td>\n",
       "    </tr>\n",
       "    <tr>\n",
       "      <th>1835</th>\n",
       "      <td>0.0</td>\n",
       "      <td>0.707692</td>\n",
       "      <td>0.492405</td>\n",
       "      <td>0.166667</td>\n",
       "      <td>0.011392</td>\n",
       "    </tr>\n",
       "    <tr>\n",
       "      <th>4833</th>\n",
       "      <td>0.0</td>\n",
       "      <td>0.723077</td>\n",
       "      <td>0.491139</td>\n",
       "      <td>0.166667</td>\n",
       "      <td>0.018418</td>\n",
       "    </tr>\n",
       "  </tbody>\n",
       "</table>\n",
       "</div>"
      ],
      "text/plain": [
       "      gender       age    income  family_members  distance\n",
       "1        0.0  0.707692  0.481013        0.166667  0.000000\n",
       "4041     0.0  0.707692  0.477215        0.166667  0.003797\n",
       "1835     0.0  0.707692  0.492405        0.166667  0.011392\n",
       "4833     0.0  0.723077  0.491139        0.166667  0.018418"
      ]
     },
     "execution_count": 119,
     "metadata": {},
     "output_type": "execute_result"
    }
   ],
   "source": [
    "scale_euc=get_knn(df_scaled.drop(['insurance_benefits'],axis=1),1,4,'euclidean')\n",
    "scale_euc"
   ]
  },
  {
   "cell_type": "code",
   "execution_count": 120,
   "metadata": {},
   "outputs": [
    {
     "data": {
      "text/html": [
       "<div>\n",
       "<style scoped>\n",
       "    .dataframe tbody tr th:only-of-type {\n",
       "        vertical-align: middle;\n",
       "    }\n",
       "\n",
       "    .dataframe tbody tr th {\n",
       "        vertical-align: top;\n",
       "    }\n",
       "\n",
       "    .dataframe thead th {\n",
       "        text-align: right;\n",
       "    }\n",
       "</style>\n",
       "<table border=\"1\" class=\"dataframe\">\n",
       "  <thead>\n",
       "    <tr style=\"text-align: right;\">\n",
       "      <th></th>\n",
       "      <th>gender</th>\n",
       "      <th>age</th>\n",
       "      <th>income</th>\n",
       "      <th>family_members</th>\n",
       "      <th>distance</th>\n",
       "    </tr>\n",
       "  </thead>\n",
       "  <tbody>\n",
       "    <tr>\n",
       "      <th>1</th>\n",
       "      <td>0.0</td>\n",
       "      <td>0.707692</td>\n",
       "      <td>0.481013</td>\n",
       "      <td>0.166667</td>\n",
       "      <td>0.000000</td>\n",
       "    </tr>\n",
       "    <tr>\n",
       "      <th>4041</th>\n",
       "      <td>0.0</td>\n",
       "      <td>0.707692</td>\n",
       "      <td>0.477215</td>\n",
       "      <td>0.166667</td>\n",
       "      <td>0.003797</td>\n",
       "    </tr>\n",
       "    <tr>\n",
       "      <th>1835</th>\n",
       "      <td>0.0</td>\n",
       "      <td>0.707692</td>\n",
       "      <td>0.492405</td>\n",
       "      <td>0.166667</td>\n",
       "      <td>0.011392</td>\n",
       "    </tr>\n",
       "    <tr>\n",
       "      <th>4833</th>\n",
       "      <td>0.0</td>\n",
       "      <td>0.723077</td>\n",
       "      <td>0.491139</td>\n",
       "      <td>0.166667</td>\n",
       "      <td>0.025511</td>\n",
       "    </tr>\n",
       "  </tbody>\n",
       "</table>\n",
       "</div>"
      ],
      "text/plain": [
       "      gender       age    income  family_members  distance\n",
       "1        0.0  0.707692  0.481013        0.166667  0.000000\n",
       "4041     0.0  0.707692  0.477215        0.166667  0.003797\n",
       "1835     0.0  0.707692  0.492405        0.166667  0.011392\n",
       "4833     0.0  0.723077  0.491139        0.166667  0.025511"
      ]
     },
     "execution_count": 120,
     "metadata": {},
     "output_type": "execute_result"
    }
   ],
   "source": [
    "scale_manh=get_knn(df_scaled.drop(['insurance_benefits'],axis=1),1,4,'manhattan')\n",
    "scale_manh"
   ]
  },
  {
   "cell_type": "markdown",
   "metadata": {},
   "source": [
    "Answers to the questions"
   ]
  },
  {
   "cell_type": "markdown",
   "metadata": {},
   "source": [
    "**Does the data being not scaled affect the kNN algorithm? If so, how does that appear?** \n",
    "\n",
    "The algorithm is the same, however results are not becuse scaled values are differs from the original values."
   ]
  },
  {
   "cell_type": "markdown",
   "metadata": {},
   "source": [
    "**How similar are the results using the Manhattan distance metric (regardless of the scaling)?** \n",
    "\n",
    "There is a little difference between the Distance Metrics results and the Manhattan is greater because euclidean way is \"shortest air distance\"."
   ]
  },
  {
   "cell_type": "markdown",
   "metadata": {},
   "source": [
    "# Task 2. Is Customer Likely to Receive Insurance Benefit?"
   ]
  },
  {
   "cell_type": "markdown",
   "metadata": {},
   "source": [
    "In terms of machine learning we can look at this like a binary classification task."
   ]
  },
  {
   "cell_type": "markdown",
   "metadata": {},
   "source": [
    "With `insurance_benefits` being more than zero as the target, evaluate whether the kNN classification approach can do better than a dummy model.\n",
    "\n",
    "Instructions:\n",
    "- Build a KNN-based classifier and measure its quality with the F1 metric for k=1..10 for both the original data and the scaled one. That'd be interesting to see how k may influece the evaluation metric, and whether scaling the data makes any difference. You can use a ready implemention of the kNN classification algorithm from scikit-learn (check [the link](https://scikit-learn.org/stable/modules/generated/sklearn.neighbors.KNeighborsClassifier.html)) or use your own.\n",
    "- Build the dummy model which is just random for this case. It should return \"1\" with some probability. Let's test the model with four probability values: 0, the probability of paying any insurance benefit, 0.5, 1.\n",
    "\n",
    "The probability of paying any insurance benefit can be defined as\n",
    "\n",
    "$$\n",
    "P\\{\\text{insurance benefit received}\\}=\\frac{\\text{number of clients received any insurance benefit}}{\\text{total number of clients}}.\n",
    "$$\n",
    "\n",
    "Split the whole data in the 70:30 proportion for the training/testing parts."
   ]
  },
  {
   "cell_type": "code",
   "execution_count": 121,
   "metadata": {},
   "outputs": [
    {
     "data": {
      "text/html": [
       "<div>\n",
       "<style scoped>\n",
       "    .dataframe tbody tr th:only-of-type {\n",
       "        vertical-align: middle;\n",
       "    }\n",
       "\n",
       "    .dataframe tbody tr th {\n",
       "        vertical-align: top;\n",
       "    }\n",
       "\n",
       "    .dataframe thead th {\n",
       "        text-align: right;\n",
       "    }\n",
       "</style>\n",
       "<table border=\"1\" class=\"dataframe\">\n",
       "  <thead>\n",
       "    <tr style=\"text-align: right;\">\n",
       "      <th></th>\n",
       "      <th>gender</th>\n",
       "      <th>age</th>\n",
       "      <th>income</th>\n",
       "      <th>family_members</th>\n",
       "      <th>insurance_benefits</th>\n",
       "      <th>insurance_benefits_received</th>\n",
       "    </tr>\n",
       "  </thead>\n",
       "  <tbody>\n",
       "    <tr>\n",
       "      <th>0</th>\n",
       "      <td>1</td>\n",
       "      <td>41</td>\n",
       "      <td>49600.0</td>\n",
       "      <td>1</td>\n",
       "      <td>0</td>\n",
       "      <td>0</td>\n",
       "    </tr>\n",
       "    <tr>\n",
       "      <th>1</th>\n",
       "      <td>0</td>\n",
       "      <td>46</td>\n",
       "      <td>38000.0</td>\n",
       "      <td>1</td>\n",
       "      <td>1</td>\n",
       "      <td>1</td>\n",
       "    </tr>\n",
       "    <tr>\n",
       "      <th>2</th>\n",
       "      <td>0</td>\n",
       "      <td>29</td>\n",
       "      <td>21000.0</td>\n",
       "      <td>0</td>\n",
       "      <td>0</td>\n",
       "      <td>0</td>\n",
       "    </tr>\n",
       "    <tr>\n",
       "      <th>3</th>\n",
       "      <td>0</td>\n",
       "      <td>21</td>\n",
       "      <td>41700.0</td>\n",
       "      <td>2</td>\n",
       "      <td>0</td>\n",
       "      <td>0</td>\n",
       "    </tr>\n",
       "    <tr>\n",
       "      <th>4</th>\n",
       "      <td>1</td>\n",
       "      <td>28</td>\n",
       "      <td>26100.0</td>\n",
       "      <td>0</td>\n",
       "      <td>0</td>\n",
       "      <td>0</td>\n",
       "    </tr>\n",
       "  </tbody>\n",
       "</table>\n",
       "</div>"
      ],
      "text/plain": [
       "   gender  age   income  family_members  insurance_benefits  \\\n",
       "0       1   41  49600.0               1                   0   \n",
       "1       0   46  38000.0               1                   1   \n",
       "2       0   29  21000.0               0                   0   \n",
       "3       0   21  41700.0               2                   0   \n",
       "4       1   28  26100.0               0                   0   \n",
       "\n",
       "   insurance_benefits_received  \n",
       "0                            0  \n",
       "1                            1  \n",
       "2                            0  \n",
       "3                            0  \n",
       "4                            0  "
      ]
     },
     "execution_count": 121,
     "metadata": {},
     "output_type": "execute_result"
    }
   ],
   "source": [
    "# calculate the target\n",
    "\n",
    "df['insurance_benefits_received'] = np.where(df.insurance_benefits>0,1,0)\n",
    "df.head()"
   ]
  },
  {
   "cell_type": "code",
   "execution_count": 122,
   "metadata": {},
   "outputs": [
    {
     "data": {
      "text/html": [
       "<div>\n",
       "<style scoped>\n",
       "    .dataframe tbody tr th:only-of-type {\n",
       "        vertical-align: middle;\n",
       "    }\n",
       "\n",
       "    .dataframe tbody tr th {\n",
       "        vertical-align: top;\n",
       "    }\n",
       "\n",
       "    .dataframe thead th {\n",
       "        text-align: right;\n",
       "    }\n",
       "</style>\n",
       "<table border=\"1\" class=\"dataframe\">\n",
       "  <thead>\n",
       "    <tr style=\"text-align: right;\">\n",
       "      <th></th>\n",
       "      <th>gender</th>\n",
       "      <th>age</th>\n",
       "      <th>income</th>\n",
       "      <th>family_members</th>\n",
       "      <th>insurance_benefits</th>\n",
       "      <th>insurance_benefits_received</th>\n",
       "    </tr>\n",
       "  </thead>\n",
       "  <tbody>\n",
       "    <tr>\n",
       "      <th>0</th>\n",
       "      <td>1.0</td>\n",
       "      <td>0.630769</td>\n",
       "      <td>0.627848</td>\n",
       "      <td>0.166667</td>\n",
       "      <td>0</td>\n",
       "      <td>0</td>\n",
       "    </tr>\n",
       "    <tr>\n",
       "      <th>1</th>\n",
       "      <td>0.0</td>\n",
       "      <td>0.707692</td>\n",
       "      <td>0.481013</td>\n",
       "      <td>0.166667</td>\n",
       "      <td>1</td>\n",
       "      <td>1</td>\n",
       "    </tr>\n",
       "    <tr>\n",
       "      <th>2</th>\n",
       "      <td>0.0</td>\n",
       "      <td>0.446154</td>\n",
       "      <td>0.265823</td>\n",
       "      <td>0.000000</td>\n",
       "      <td>0</td>\n",
       "      <td>0</td>\n",
       "    </tr>\n",
       "    <tr>\n",
       "      <th>3</th>\n",
       "      <td>0.0</td>\n",
       "      <td>0.323077</td>\n",
       "      <td>0.527848</td>\n",
       "      <td>0.333333</td>\n",
       "      <td>0</td>\n",
       "      <td>0</td>\n",
       "    </tr>\n",
       "    <tr>\n",
       "      <th>4</th>\n",
       "      <td>1.0</td>\n",
       "      <td>0.430769</td>\n",
       "      <td>0.330380</td>\n",
       "      <td>0.000000</td>\n",
       "      <td>0</td>\n",
       "      <td>0</td>\n",
       "    </tr>\n",
       "  </tbody>\n",
       "</table>\n",
       "</div>"
      ],
      "text/plain": [
       "   gender       age    income  family_members  insurance_benefits  \\\n",
       "0     1.0  0.630769  0.627848        0.166667                   0   \n",
       "1     0.0  0.707692  0.481013        0.166667                   1   \n",
       "2     0.0  0.446154  0.265823        0.000000                   0   \n",
       "3     0.0  0.323077  0.527848        0.333333                   0   \n",
       "4     1.0  0.430769  0.330380        0.000000                   0   \n",
       "\n",
       "   insurance_benefits_received  \n",
       "0                            0  \n",
       "1                            1  \n",
       "2                            0  \n",
       "3                            0  \n",
       "4                            0  "
      ]
     },
     "execution_count": 122,
     "metadata": {},
     "output_type": "execute_result"
    }
   ],
   "source": [
    "df_scaled['insurance_benefits_received']= np.where(df_scaled.insurance_benefits>0,1,0)\n",
    "df_scaled.head()"
   ]
  },
  {
   "cell_type": "code",
   "execution_count": 123,
   "metadata": {
    "scrolled": true
   },
   "outputs": [
    {
     "data": {
      "text/plain": [
       "0    4284\n",
       "1     563\n",
       "Name: insurance_benefits_received, dtype: int64"
      ]
     },
     "execution_count": 123,
     "metadata": {},
     "output_type": "execute_result"
    }
   ],
   "source": [
    "# check for the class imbalance with value_counts()\n",
    "\n",
    "# <your code here>\n",
    "\n",
    "df.insurance_benefits_received.value_counts()"
   ]
  },
  {
   "cell_type": "code",
   "execution_count": 124,
   "metadata": {},
   "outputs": [
    {
     "data": {
      "text/plain": [
       "0    4284\n",
       "1     563\n",
       "Name: insurance_benefits_received, dtype: int64"
      ]
     },
     "execution_count": 124,
     "metadata": {},
     "output_type": "execute_result"
    }
   ],
   "source": [
    "df_scaled.insurance_benefits_received.value_counts()"
   ]
  },
  {
   "cell_type": "markdown",
   "metadata": {},
   "source": [
    "The number of zeros and ones are significantly differs therefore it will be better to upsample the data."
   ]
  },
  {
   "cell_type": "markdown",
   "metadata": {},
   "source": [
    "Let's split the data to train and test."
   ]
  },
  {
   "cell_type": "code",
   "execution_count": 125,
   "metadata": {},
   "outputs": [],
   "source": [
    "train_df,test_df=train_test_split(df,test_size=0.3)\n",
    "train_df_scld,test_df_scld=train_test_split(df_scaled,test_size=0.3)\n",
    "\n",
    "#Train.\n",
    "#Non scaled splited data for train\n",
    "target_train=train_df.insurance_benefits_received\n",
    "features_train=train_df.drop(['insurance_benefits','insurance_benefits_received'],axis=1)\n",
    "\n",
    "#Scaled splied data for train\n",
    "target_train_scld=train_df_scld.insurance_benefits_received\n",
    "features_train_scld=train_df_scld.drop(['insurance_benefits','insurance_benefits_received'],axis=1)\n",
    "\n",
    "#Test.\n",
    "#Non scaled test data\n",
    "target_test=test_df.insurance_benefits_received\n",
    "features_test=test_df.drop(['insurance_benefits','insurance_benefits_received'],axis=1)\n",
    "\n",
    "\n",
    "#Scaled test data\n",
    "target_test_scld=test_df_scld.insurance_benefits_received\n",
    "features_test_scld=test_df_scld.drop(['insurance_benefits','insurance_benefits_received'], axis=1)\n"
   ]
  },
  {
   "cell_type": "markdown",
   "metadata": {},
   "source": [
    "Let's upsample the data."
   ]
  },
  {
   "cell_type": "code",
   "execution_count": 126,
   "metadata": {},
   "outputs": [],
   "source": [
    "from sklearn.utils import shuffle"
   ]
  },
  {
   "cell_type": "code",
   "execution_count": 127,
   "metadata": {},
   "outputs": [],
   "source": [
    "# Upsample function.\n",
    "def upsample(features, target):\n",
    "    features_zeros = features[target == 0]\n",
    "    features_ones = features[target == 1]\n",
    "    target_zeros = target[target == 0]\n",
    "    target_ones = target[target == 1]\n",
    "    \n",
    "    repeat = int(len(target_zeros)/len(target_ones))\n",
    "\n",
    "    features_upsampled = pd.concat([features_zeros] + [features_ones] * repeat)\n",
    "    target_upsampled = pd.concat([target_zeros] + [target_ones] * repeat)\n",
    "\n",
    "    features_upsampled, target_upsampled = shuffle(\n",
    "        features_upsampled, target_upsampled, random_state=12345\n",
    "    )\n",
    "\n",
    "    return features_upsampled, target_upsampled"
   ]
  },
  {
   "cell_type": "markdown",
   "metadata": {},
   "source": [
    "Now it is time to use the upsamle function to trian the data properly."
   ]
  },
  {
   "cell_type": "code",
   "execution_count": 128,
   "metadata": {},
   "outputs": [
    {
     "data": {
      "text/plain": [
       "0    0.523726\n",
       "1    0.476274\n",
       "Name: insurance_benefits_received, dtype: float64"
      ]
     },
     "execution_count": 128,
     "metadata": {},
     "output_type": "execute_result"
    }
   ],
   "source": [
    "#Non scaled train data.\n",
    "features_train,target_train=upsample(features_train,target_train)\n",
    "target_train.value_counts()/len(target_train)\n",
    "\n"
   ]
  },
  {
   "cell_type": "markdown",
   "metadata": {},
   "source": [
    "More or less the same weight."
   ]
  },
  {
   "cell_type": "code",
   "execution_count": 129,
   "metadata": {},
   "outputs": [
    {
     "data": {
      "text/plain": [
       "0    0.515868\n",
       "1    0.484132\n",
       "Name: insurance_benefits_received, dtype: float64"
      ]
     },
     "execution_count": 129,
     "metadata": {},
     "output_type": "execute_result"
    }
   ],
   "source": [
    "#scaled train data.\n",
    "\n",
    "features_train_scld,target_train_scld=upsample(features_train_scld,target_train_scld)\n",
    "target_train_scld.value_counts()/len(target_train_scld)"
   ]
  },
  {
   "cell_type": "code",
   "execution_count": 130,
   "metadata": {},
   "outputs": [],
   "source": [
    "def eval_classifier(y_true, y_pred):\n",
    "    \n",
    "    f1_score = sklearn.metrics.f1_score(y_true, y_pred)\n",
    "    print(f'F1: {f1_score:.2f}')\n",
    "    \n",
    "# if you have an issue with the following line, restart the kernel and run the notebook again\n",
    "    cm = sklearn.metrics.confusion_matrix(y_true, y_pred, normalize='all')\n",
    "    print('Confusion Matrix')\n",
    "    print(cm)"
   ]
  },
  {
   "cell_type": "code",
   "execution_count": 131,
   "metadata": {},
   "outputs": [],
   "source": [
    "# generating output of a random model\n",
    "\n",
    "def rnd_model_predict(P, size, seed=42):\n",
    "\n",
    "    rng = np.random.default_rng(seed=seed)\n",
    "    return rng.binomial(n=1, p=P, size=size)"
   ]
  },
  {
   "cell_type": "code",
   "execution_count": 132,
   "metadata": {},
   "outputs": [
    {
     "name": "stdout",
     "output_type": "stream",
     "text": [
      "The probability: 0.00\n",
      "F1: 0.00\n",
      "Confusion Matrix\n",
      "[[0.88109966 0.        ]\n",
      " [0.11890034 0.        ]]\n",
      "\n",
      "The probability: 0.48\n",
      "F1: 0.20\n",
      "Confusion Matrix\n",
      "[[0.46666667 0.41443299]\n",
      " [0.0604811  0.05841924]]\n",
      "\n",
      "The probability: 0.50\n",
      "F1: 0.20\n",
      "Confusion Matrix\n",
      "[[0.4467354  0.43436426]\n",
      " [0.05773196 0.06116838]]\n",
      "\n",
      "The probability: 1.00\n",
      "F1: 0.21\n",
      "Confusion Matrix\n",
      "[[0.         0.88109966]\n",
      " [0.         0.11890034]]\n",
      "\n"
     ]
    }
   ],
   "source": [
    "for P in [0, target_train.sum() / len(target_train), 0.5, 1]:\n",
    "\n",
    "    print(f'The probability: {P:.2f}')\n",
    "    y_pred_rnd = rnd_model_predict(P,len(target_test))# <your code here> \n",
    "        \n",
    "    eval_classifier(target_test, y_pred_rnd)\n",
    "    \n",
    "    print()"
   ]
  },
  {
   "cell_type": "markdown",
   "metadata": {},
   "source": [
    "Let's create the K-NN algorithm."
   ]
  },
  {
   "cell_type": "markdown",
   "metadata": {},
   "source": [
    "Not scaled data."
   ]
  },
  {
   "cell_type": "code",
   "execution_count": 133,
   "metadata": {},
   "outputs": [],
   "source": [
    "from sklearn.neighbors import KNeighborsClassifier"
   ]
  },
  {
   "cell_type": "code",
   "execution_count": 134,
   "metadata": {},
   "outputs": [],
   "source": [
    "\n",
    "def k_nn(k,features,target):\n",
    "    neigh = KNeighborsClassifier(n_neighbors=k)\n",
    "    neigh.fit(features, target)\n",
    "    return neigh\n"
   ]
  },
  {
   "cell_type": "code",
   "execution_count": 135,
   "metadata": {},
   "outputs": [
    {
     "name": "stdout",
     "output_type": "stream",
     "text": [
      "For k= 1\n",
      "F1: 0.60\n",
      "Confusion Matrix\n",
      "[[0.85773196 0.0233677 ]\n",
      " [0.05773196 0.06116838]]\n",
      "\n",
      "For k= 2\n",
      "F1: 0.60\n",
      "Confusion Matrix\n",
      "[[0.85773196 0.0233677 ]\n",
      " [0.05841924 0.0604811 ]]\n",
      "\n",
      "For k= 3\n",
      "F1: 0.56\n",
      "Confusion Matrix\n",
      "[[0.82955326 0.05154639]\n",
      " [0.05223368 0.06666667]]\n",
      "\n",
      "For k= 4\n",
      "F1: 0.56\n",
      "Confusion Matrix\n",
      "[[0.82955326 0.05154639]\n",
      " [0.05223368 0.06666667]]\n",
      "\n",
      "For k= 5\n",
      "F1: 0.51\n",
      "Confusion Matrix\n",
      "[[0.79656357 0.08453608]\n",
      " [0.04879725 0.07010309]]\n",
      "\n",
      "For k= 6\n",
      "F1: 0.51\n",
      "Confusion Matrix\n",
      "[[0.79656357 0.08453608]\n",
      " [0.04948454 0.06941581]]\n",
      "\n",
      "For k= 7\n",
      "F1: 0.46\n",
      "Confusion Matrix\n",
      "[[0.75945017 0.12164948]\n",
      " [0.04604811 0.07285223]]\n",
      "\n",
      "For k= 8\n",
      "F1: 0.46\n",
      "Confusion Matrix\n",
      "[[0.75945017 0.12164948]\n",
      " [0.04604811 0.07285223]]\n",
      "\n",
      "For k= 9\n",
      "F1: 0.42\n",
      "Confusion Matrix\n",
      "[[0.71821306 0.1628866 ]\n",
      " [0.04329897 0.07560137]]\n",
      "\n",
      "For k= 10\n",
      "F1: 0.42\n",
      "Confusion Matrix\n",
      "[[0.71821306 0.1628866 ]\n",
      " [0.04329897 0.07560137]]\n",
      "\n"
     ]
    }
   ],
   "source": [
    "for i in range(1,11):\n",
    "    print('For k=',i)\n",
    "    knn_train=k_nn(i,features_train,target_train)\n",
    "    knn_predict=knn_train.predict(features_test)\n",
    "    f1=eval_classifier(target_test,knn_predict)\n",
    "    print()"
   ]
  },
  {
   "cell_type": "markdown",
   "metadata": {},
   "source": [
    "Scaled data."
   ]
  },
  {
   "cell_type": "code",
   "execution_count": 136,
   "metadata": {},
   "outputs": [
    {
     "name": "stdout",
     "output_type": "stream",
     "text": [
      "For k= 1\n",
      "F1: 0.95\n",
      "Confusion Matrix\n",
      "[[0.88453608 0.00412371]\n",
      " [0.00687285 0.10446735]]\n",
      "\n",
      "For k= 2\n",
      "F1: 0.95\n",
      "Confusion Matrix\n",
      "[[0.88453608 0.00412371]\n",
      " [0.00687285 0.10446735]]\n",
      "\n",
      "For k= 3\n",
      "F1: 0.93\n",
      "Confusion Matrix\n",
      "[[0.87697595 0.01168385]\n",
      " [0.00412371 0.10721649]]\n",
      "\n",
      "For k= 4\n",
      "F1: 0.93\n",
      "Confusion Matrix\n",
      "[[0.87697595 0.01168385]\n",
      " [0.00412371 0.10721649]]\n",
      "\n",
      "For k= 5\n",
      "F1: 0.90\n",
      "Confusion Matrix\n",
      "[[0.86597938 0.02268041]\n",
      " [0.00274914 0.10859107]]\n",
      "\n",
      "For k= 6\n",
      "F1: 0.90\n",
      "Confusion Matrix\n",
      "[[0.86597938 0.02268041]\n",
      " [0.00274914 0.10859107]]\n",
      "\n",
      "For k= 7\n",
      "F1: 0.89\n",
      "Confusion Matrix\n",
      "[[0.86460481 0.02405498]\n",
      " [0.00206186 0.10927835]]\n",
      "\n",
      "For k= 8\n",
      "F1: 0.89\n",
      "Confusion Matrix\n",
      "[[0.86460481 0.02405498]\n",
      " [0.00206186 0.10927835]]\n",
      "\n",
      "For k= 9\n",
      "F1: 0.86\n",
      "Confusion Matrix\n",
      "[[0.8556701  0.03298969]\n",
      " [0.00137457 0.10996564]]\n",
      "\n",
      "For k= 10\n",
      "F1: 0.86\n",
      "Confusion Matrix\n",
      "[[0.8556701  0.03298969]\n",
      " [0.00137457 0.10996564]]\n",
      "\n"
     ]
    }
   ],
   "source": [
    "for i in range(1,11):\n",
    "    print('For k=',i)\n",
    "    knn_train=k_nn(i,features_train_scld,target_train_scld)\n",
    "    knn_predict=knn_train.predict(features_test_scld)\n",
    "    f1=eval_classifier(target_test_scld,knn_predict)\n",
    "    print()"
   ]
  },
  {
   "cell_type": "markdown",
   "metadata": {},
   "source": [
    "K-nn model gives better results than dummy model aspecialy scaled data."
   ]
  },
  {
   "cell_type": "markdown",
   "metadata": {},
   "source": [
    "# Task 3. Regression (with Linear Regression)"
   ]
  },
  {
   "cell_type": "markdown",
   "metadata": {},
   "source": [
    "With `insurance_benefits` as the target, evaluate what RMSE would be for a Linear Regression model."
   ]
  },
  {
   "cell_type": "markdown",
   "metadata": {},
   "source": [
    "Build your own implementation of LR. For that, recall how the linear regression task's solution is formulated in terms of LA. Check RMSE for both the original data and the scaled one. Can you see any difference in RMSE between these two cases?\n",
    "\n",
    "Let's denote\n",
    "- $X$ — feature matrix, each row is a case, each column is a feature, the first column consists of unities\n",
    "- $y$ — target (a vector)\n",
    "- $\\hat{y}$ — estimated tagret (a vector)\n",
    "- $w$ — weight vector\n",
    "\n",
    "The task of linear regression in the language of matrices can be formulated as\n",
    "\n",
    "$$\n",
    "y = Xw\n",
    "$$\n",
    "\n",
    "The training objective then is to find such $w$ that it would minimize the L2-distance (MSE) between $Xw$ and $y$:\n",
    "\n",
    "$$\n",
    "\\min_w d_2(Xw, y) \\quad \\text{or} \\quad \\min_w \\text{MSE}(Xw, y)\n",
    "$$\n",
    "\n",
    "It appears that there is analytical solution for the above:\n",
    "\n",
    "$$\n",
    "w = (X^T X)^{-1} X^T y\n",
    "$$\n",
    "\n",
    "The formula above can be used to find the weights $w$ and the latter can be used to calculate predicted values\n",
    "\n",
    "$$\n",
    "\\hat{y} = X_{val}w\n",
    "$$"
   ]
  },
  {
   "cell_type": "markdown",
   "metadata": {},
   "source": [
    "Split the whole data in the 70:30 proportion for the training/validation parts. Use the RMSE metric for the model evaluation."
   ]
  },
  {
   "cell_type": "code",
   "execution_count": 137,
   "metadata": {},
   "outputs": [],
   "source": [
    "class MyLinearRegression:\n",
    "    \n",
    "    def __init__(self):\n",
    "        \n",
    "        self.weights = None\n",
    "    \n",
    "    def fit(self, X, y):\n",
    "        \n",
    "        # adding the unities\n",
    "        X2 = np.append(np.ones([len(X), 1]), X, axis=1)\n",
    "        weights=np.linalg.inv(X2.T.dot(X2)).dot(X2.T).dot(y)\n",
    "        self.weights = weights[1:]# <your code here>\n",
    "        self.w0 = weights[0]\n",
    "    def predict(self, X):\n",
    "        \n",
    "        # adding the unities\n",
    "        X2 =X # <your code here>\n",
    "        y_pred =X2.dot(self.weights) + self.w0 # <your code here>\n",
    "        \n",
    "        return y_pred"
   ]
  },
  {
   "cell_type": "code",
   "execution_count": 138,
   "metadata": {},
   "outputs": [],
   "source": [
    "import math"
   ]
  },
  {
   "cell_type": "code",
   "execution_count": 139,
   "metadata": {},
   "outputs": [],
   "source": [
    "def eval_regressor(y_true, y_pred):\n",
    "    \n",
    "    rmse = math.sqrt(sklearn.metrics.mean_squared_error(y_true, y_pred))\n",
    "    print(f'RMSE: {rmse:.2f}')\n",
    "    \n",
    "    r2_score = math.sqrt(sklearn.metrics.r2_score(y_true, y_pred))\n",
    "    print(f'R2: {r2_score:.2f}')    "
   ]
  },
  {
   "cell_type": "code",
   "execution_count": 140,
   "metadata": {},
   "outputs": [
    {
     "name": "stdout",
     "output_type": "stream",
     "text": [
      "[ 3.58042291e-02  1.95594888e-02  5.85336165e-07 -1.21618420e-02]\n",
      "RMSE: 0.36\n",
      "R2: 0.66\n"
     ]
    }
   ],
   "source": [
    "X = df[['age', 'gender', 'income', 'family_members']].to_numpy()\n",
    "y = df['insurance_benefits'].to_numpy()\n",
    "\n",
    "X_train, X_test, y_train, y_test = train_test_split(X, y, test_size=0.3, random_state=12345)\n",
    "\n",
    "lr = MyLinearRegression()\n",
    "\n",
    "lr.fit(X_train, y_train)\n",
    "print(lr.weights)\n",
    "\n",
    "y_test_pred = lr.predict(X_test)\n",
    "eval_regressor(y_test, y_test_pred)"
   ]
  },
  {
   "cell_type": "markdown",
   "metadata": {},
   "source": [
    "Let's go over the scaled data."
   ]
  },
  {
   "cell_type": "code",
   "execution_count": 141,
   "metadata": {},
   "outputs": [
    {
     "name": "stdout",
     "output_type": "stream",
     "text": [
      "[ 2.32727489  0.01955949  0.04624156 -0.07297105]\n",
      "RMSE: 0.36\n",
      "R2: 0.66\n"
     ]
    }
   ],
   "source": [
    "X = df_scaled[['age', 'gender', 'income', 'family_members']].to_numpy()\n",
    "\n",
    "X_train, X_test, y_train, y_test = train_test_split(X, y, test_size=0.3, random_state=12345)\n",
    "\n",
    "lr = MyLinearRegression()\n",
    "\n",
    "lr.fit(X_train, y_train)\n",
    "print(lr.weights)\n",
    "\n",
    "y_test_pred = lr.predict(X_test)\n",
    "eval_regressor(y_test, y_test_pred)"
   ]
  },
  {
   "cell_type": "markdown",
   "metadata": {},
   "source": [
    "The RMSE and R2 are the same for the scaled and non scaled data and RMSE<1 which means that our model works fine."
   ]
  },
  {
   "cell_type": "markdown",
   "metadata": {},
   "source": [
    "# Task 4. Obfuscating Data\n"
   ]
  },
  {
   "cell_type": "markdown",
   "metadata": {},
   "source": [
    "It best to obfuscate data by multiplying the numerical features (remember, they can be seen as the matrix $X$) by an invertible matrix $P$. \n",
    "\n",
    "$$\n",
    "X' = X \\times P\n",
    "$$\n",
    "\n",
    "Try to do that and check how the features' values will look like after the transformation. By the way, the intertible property is important here so make sure that $P$ is indeed invertible.\n",
    "\n",
    "You may want to review the 'Matrices and Matrix Operations -> Matrix Multiplication' lesson to recall the rule of matrix multiplication and its implementation with NumPy."
   ]
  },
  {
   "cell_type": "code",
   "execution_count": 142,
   "metadata": {},
   "outputs": [],
   "source": [
    "personal_info_column_list = ['gender', 'age', 'income', 'family_members']\n",
    "df_pn = df[personal_info_column_list]"
   ]
  },
  {
   "cell_type": "code",
   "execution_count": 143,
   "metadata": {},
   "outputs": [],
   "source": [
    "X = df_pn.to_numpy()"
   ]
  },
  {
   "cell_type": "markdown",
   "metadata": {},
   "source": [
    "Generating a random matrix $P$."
   ]
  },
  {
   "cell_type": "code",
   "execution_count": 144,
   "metadata": {},
   "outputs": [],
   "source": [
    "rng = np.random.default_rng(seed=42)\n",
    "P = rng.random(size=(X.shape[1], X.shape[1]))"
   ]
  },
  {
   "cell_type": "markdown",
   "metadata": {},
   "source": [
    "Checking the matrix $P$ is invertible"
   ]
  },
  {
   "cell_type": "code",
   "execution_count": 145,
   "metadata": {},
   "outputs": [
    {
     "data": {
      "text/plain": [
       "array([[ 0.41467992, -1.43783972,  0.62798546,  1.14001268],\n",
       "       [-1.06101789,  0.44219337,  0.1329549 ,  1.18425933],\n",
       "       [ 1.42362442,  1.60461607, -2.0553823 , -1.53699695],\n",
       "       [-0.11128575, -0.65813802,  1.74995517, -0.11816316]])"
      ]
     },
     "execution_count": 145,
     "metadata": {},
     "output_type": "execute_result"
    }
   ],
   "source": [
    "np.linalg.inv(P)"
   ]
  },
  {
   "cell_type": "markdown",
   "metadata": {},
   "source": [
    "We see that there is no error so it menas that P matrix is invertible."
   ]
  },
  {
   "cell_type": "markdown",
   "metadata": {},
   "source": [
    "Can you guess the customers' ages or income after the transformation?"
   ]
  },
  {
   "cell_type": "code",
   "execution_count": 146,
   "metadata": {
    "scrolled": true
   },
   "outputs": [
    {
     "data": {
      "text/html": [
       "<div>\n",
       "<style scoped>\n",
       "    .dataframe tbody tr th:only-of-type {\n",
       "        vertical-align: middle;\n",
       "    }\n",
       "\n",
       "    .dataframe tbody tr th {\n",
       "        vertical-align: top;\n",
       "    }\n",
       "\n",
       "    .dataframe thead th {\n",
       "        text-align: right;\n",
       "    }\n",
       "</style>\n",
       "<table border=\"1\" class=\"dataframe\">\n",
       "  <thead>\n",
       "    <tr style=\"text-align: right;\">\n",
       "      <th></th>\n",
       "      <th>gender</th>\n",
       "      <th>age</th>\n",
       "      <th>income</th>\n",
       "      <th>family_members</th>\n",
       "    </tr>\n",
       "  </thead>\n",
       "  <tbody>\n",
       "    <tr>\n",
       "      <th>0</th>\n",
       "      <td>6359.715273</td>\n",
       "      <td>22380.404676</td>\n",
       "      <td>18424.090742</td>\n",
       "      <td>46000.696690</td>\n",
       "    </tr>\n",
       "    <tr>\n",
       "      <th>1</th>\n",
       "      <td>4873.294065</td>\n",
       "      <td>17160.367030</td>\n",
       "      <td>14125.780761</td>\n",
       "      <td>35253.455773</td>\n",
       "    </tr>\n",
       "    <tr>\n",
       "      <th>2</th>\n",
       "      <td>2693.117429</td>\n",
       "      <td>9486.397744</td>\n",
       "      <td>7808.831560</td>\n",
       "      <td>19484.860631</td>\n",
       "    </tr>\n",
       "    <tr>\n",
       "      <th>3</th>\n",
       "      <td>5345.603937</td>\n",
       "      <td>18803.227203</td>\n",
       "      <td>15479.148373</td>\n",
       "      <td>38663.061863</td>\n",
       "    </tr>\n",
       "    <tr>\n",
       "      <th>4</th>\n",
       "      <td>3347.176735</td>\n",
       "      <td>11782.829283</td>\n",
       "      <td>9699.998942</td>\n",
       "      <td>24211.273378</td>\n",
       "    </tr>\n",
       "  </tbody>\n",
       "</table>\n",
       "</div>"
      ],
      "text/plain": [
       "        gender           age        income  family_members\n",
       "0  6359.715273  22380.404676  18424.090742    46000.696690\n",
       "1  4873.294065  17160.367030  14125.780761    35253.455773\n",
       "2  2693.117429   9486.397744   7808.831560    19484.860631\n",
       "3  5345.603937  18803.227203  15479.148373    38663.061863\n",
       "4  3347.176735  11782.829283   9699.998942    24211.273378"
      ]
     },
     "execution_count": 146,
     "metadata": {},
     "output_type": "execute_result"
    }
   ],
   "source": [
    "X_prime=X @ P\n",
    "\n",
    "obfs_df = pd.DataFrame(X_prime, columns = personal_info_column_list)\n",
    "obfs_df.head()\n"
   ]
  },
  {
   "cell_type": "markdown",
   "metadata": {},
   "source": [
    "As we can see the data is \"corrupted\" since age of 18424 is not possible or family members or gender so no, we cannot guess customer's age or income from this data set. "
   ]
  },
  {
   "cell_type": "markdown",
   "metadata": {},
   "source": [
    "Can you recover the original data from $X'$ if you know $P$? Try to check that with calculations by moving $P$ from the right side of the formula above to the left one. The rules of matrix multiplcation are really helpful here."
   ]
  },
  {
   "cell_type": "code",
   "execution_count": 147,
   "metadata": {
    "scrolled": true
   },
   "outputs": [
    {
     "data": {
      "text/html": [
       "<div>\n",
       "<style scoped>\n",
       "    .dataframe tbody tr th:only-of-type {\n",
       "        vertical-align: middle;\n",
       "    }\n",
       "\n",
       "    .dataframe tbody tr th {\n",
       "        vertical-align: top;\n",
       "    }\n",
       "\n",
       "    .dataframe thead th {\n",
       "        text-align: right;\n",
       "    }\n",
       "</style>\n",
       "<table border=\"1\" class=\"dataframe\">\n",
       "  <thead>\n",
       "    <tr style=\"text-align: right;\">\n",
       "      <th></th>\n",
       "      <th>gender</th>\n",
       "      <th>age</th>\n",
       "      <th>income</th>\n",
       "      <th>family_members</th>\n",
       "    </tr>\n",
       "  </thead>\n",
       "  <tbody>\n",
       "    <tr>\n",
       "      <th>0</th>\n",
       "      <td>0</td>\n",
       "      <td>40</td>\n",
       "      <td>49600</td>\n",
       "      <td>1</td>\n",
       "    </tr>\n",
       "    <tr>\n",
       "      <th>1</th>\n",
       "      <td>0</td>\n",
       "      <td>46</td>\n",
       "      <td>37999</td>\n",
       "      <td>1</td>\n",
       "    </tr>\n",
       "    <tr>\n",
       "      <th>2</th>\n",
       "      <td>0</td>\n",
       "      <td>29</td>\n",
       "      <td>20999</td>\n",
       "      <td>0</td>\n",
       "    </tr>\n",
       "    <tr>\n",
       "      <th>3</th>\n",
       "      <td>0</td>\n",
       "      <td>21</td>\n",
       "      <td>41700</td>\n",
       "      <td>2</td>\n",
       "    </tr>\n",
       "    <tr>\n",
       "      <th>4</th>\n",
       "      <td>1</td>\n",
       "      <td>28</td>\n",
       "      <td>26100</td>\n",
       "      <td>0</td>\n",
       "    </tr>\n",
       "  </tbody>\n",
       "</table>\n",
       "</div>"
      ],
      "text/plain": [
       "   gender  age  income  family_members\n",
       "0       0   40   49600               1\n",
       "1       0   46   37999               1\n",
       "2       0   29   20999               0\n",
       "3       0   21   41700               2\n",
       "4       1   28   26100               0"
      ]
     },
     "execution_count": 147,
     "metadata": {},
     "output_type": "execute_result"
    }
   ],
   "source": [
    "X_orig=(X_prime @ np.linalg.inv(P)).astype(int)\n",
    "X_orig_df=pd.DataFrame(X_orig, columns = personal_info_column_list)\n",
    "X_orig_df.head()"
   ]
  },
  {
   "cell_type": "code",
   "execution_count": 148,
   "metadata": {
    "scrolled": true
   },
   "outputs": [
    {
     "data": {
      "text/html": [
       "<div>\n",
       "<style scoped>\n",
       "    .dataframe tbody tr th:only-of-type {\n",
       "        vertical-align: middle;\n",
       "    }\n",
       "\n",
       "    .dataframe tbody tr th {\n",
       "        vertical-align: top;\n",
       "    }\n",
       "\n",
       "    .dataframe thead th {\n",
       "        text-align: right;\n",
       "    }\n",
       "</style>\n",
       "<table border=\"1\" class=\"dataframe\">\n",
       "  <thead>\n",
       "    <tr style=\"text-align: right;\">\n",
       "      <th></th>\n",
       "      <th>gender</th>\n",
       "      <th>age</th>\n",
       "      <th>income</th>\n",
       "      <th>family_members</th>\n",
       "    </tr>\n",
       "  </thead>\n",
       "  <tbody>\n",
       "    <tr>\n",
       "      <th>0</th>\n",
       "      <td>1</td>\n",
       "      <td>41</td>\n",
       "      <td>49600.0</td>\n",
       "      <td>1</td>\n",
       "    </tr>\n",
       "    <tr>\n",
       "      <th>1</th>\n",
       "      <td>0</td>\n",
       "      <td>46</td>\n",
       "      <td>38000.0</td>\n",
       "      <td>1</td>\n",
       "    </tr>\n",
       "    <tr>\n",
       "      <th>2</th>\n",
       "      <td>0</td>\n",
       "      <td>29</td>\n",
       "      <td>21000.0</td>\n",
       "      <td>0</td>\n",
       "    </tr>\n",
       "    <tr>\n",
       "      <th>3</th>\n",
       "      <td>0</td>\n",
       "      <td>21</td>\n",
       "      <td>41700.0</td>\n",
       "      <td>2</td>\n",
       "    </tr>\n",
       "    <tr>\n",
       "      <th>4</th>\n",
       "      <td>1</td>\n",
       "      <td>28</td>\n",
       "      <td>26100.0</td>\n",
       "      <td>0</td>\n",
       "    </tr>\n",
       "  </tbody>\n",
       "</table>\n",
       "</div>"
      ],
      "text/plain": [
       "   gender  age   income  family_members\n",
       "0       1   41  49600.0               1\n",
       "1       0   46  38000.0               1\n",
       "2       0   29  21000.0               0\n",
       "3       0   21  41700.0               2\n",
       "4       1   28  26100.0               0"
      ]
     },
     "execution_count": 148,
     "metadata": {},
     "output_type": "execute_result"
    }
   ],
   "source": [
    "df_pn.head()"
   ]
  },
  {
   "cell_type": "markdown",
   "metadata": {},
   "source": [
    "From the resuts above the recovery of original data is success."
   ]
  },
  {
   "cell_type": "markdown",
   "metadata": {},
   "source": [
    "Print all three cases for a few customers\n",
    "- The original data\n",
    "- The transformed one\n",
    "- The reversed (recovered) one"
   ]
  },
  {
   "cell_type": "markdown",
   "metadata": {},
   "source": [
    "The original data."
   ]
  },
  {
   "cell_type": "code",
   "execution_count": 149,
   "metadata": {},
   "outputs": [
    {
     "data": {
      "text/html": [
       "<div>\n",
       "<style scoped>\n",
       "    .dataframe tbody tr th:only-of-type {\n",
       "        vertical-align: middle;\n",
       "    }\n",
       "\n",
       "    .dataframe tbody tr th {\n",
       "        vertical-align: top;\n",
       "    }\n",
       "\n",
       "    .dataframe thead th {\n",
       "        text-align: right;\n",
       "    }\n",
       "</style>\n",
       "<table border=\"1\" class=\"dataframe\">\n",
       "  <thead>\n",
       "    <tr style=\"text-align: right;\">\n",
       "      <th></th>\n",
       "      <th>gender</th>\n",
       "      <th>age</th>\n",
       "      <th>income</th>\n",
       "      <th>family_members</th>\n",
       "    </tr>\n",
       "  </thead>\n",
       "  <tbody>\n",
       "    <tr>\n",
       "      <th>4832</th>\n",
       "      <td>1</td>\n",
       "      <td>38</td>\n",
       "      <td>45800.0</td>\n",
       "      <td>0</td>\n",
       "    </tr>\n",
       "    <tr>\n",
       "      <th>4833</th>\n",
       "      <td>0</td>\n",
       "      <td>47</td>\n",
       "      <td>38800.0</td>\n",
       "      <td>1</td>\n",
       "    </tr>\n",
       "    <tr>\n",
       "      <th>4834</th>\n",
       "      <td>0</td>\n",
       "      <td>28</td>\n",
       "      <td>51300.0</td>\n",
       "      <td>1</td>\n",
       "    </tr>\n",
       "    <tr>\n",
       "      <th>4835</th>\n",
       "      <td>0</td>\n",
       "      <td>32</td>\n",
       "      <td>32500.0</td>\n",
       "      <td>1</td>\n",
       "    </tr>\n",
       "    <tr>\n",
       "      <th>4836</th>\n",
       "      <td>1</td>\n",
       "      <td>28</td>\n",
       "      <td>40900.0</td>\n",
       "      <td>1</td>\n",
       "    </tr>\n",
       "    <tr>\n",
       "      <th>4837</th>\n",
       "      <td>0</td>\n",
       "      <td>22</td>\n",
       "      <td>56800.0</td>\n",
       "      <td>1</td>\n",
       "    </tr>\n",
       "    <tr>\n",
       "      <th>4838</th>\n",
       "      <td>0</td>\n",
       "      <td>21</td>\n",
       "      <td>38300.0</td>\n",
       "      <td>3</td>\n",
       "    </tr>\n",
       "    <tr>\n",
       "      <th>4839</th>\n",
       "      <td>0</td>\n",
       "      <td>45</td>\n",
       "      <td>54600.0</td>\n",
       "      <td>0</td>\n",
       "    </tr>\n",
       "    <tr>\n",
       "      <th>4840</th>\n",
       "      <td>1</td>\n",
       "      <td>32</td>\n",
       "      <td>36000.0</td>\n",
       "      <td>1</td>\n",
       "    </tr>\n",
       "    <tr>\n",
       "      <th>4841</th>\n",
       "      <td>1</td>\n",
       "      <td>26</td>\n",
       "      <td>51400.0</td>\n",
       "      <td>0</td>\n",
       "    </tr>\n",
       "    <tr>\n",
       "      <th>4842</th>\n",
       "      <td>0</td>\n",
       "      <td>28</td>\n",
       "      <td>35700.0</td>\n",
       "      <td>2</td>\n",
       "    </tr>\n",
       "    <tr>\n",
       "      <th>4843</th>\n",
       "      <td>0</td>\n",
       "      <td>34</td>\n",
       "      <td>52400.0</td>\n",
       "      <td>1</td>\n",
       "    </tr>\n",
       "    <tr>\n",
       "      <th>4844</th>\n",
       "      <td>0</td>\n",
       "      <td>20</td>\n",
       "      <td>33900.0</td>\n",
       "      <td>2</td>\n",
       "    </tr>\n",
       "    <tr>\n",
       "      <th>4845</th>\n",
       "      <td>1</td>\n",
       "      <td>22</td>\n",
       "      <td>32700.0</td>\n",
       "      <td>3</td>\n",
       "    </tr>\n",
       "    <tr>\n",
       "      <th>4846</th>\n",
       "      <td>1</td>\n",
       "      <td>28</td>\n",
       "      <td>40600.0</td>\n",
       "      <td>1</td>\n",
       "    </tr>\n",
       "  </tbody>\n",
       "</table>\n",
       "</div>"
      ],
      "text/plain": [
       "      gender  age   income  family_members\n",
       "4832       1   38  45800.0               0\n",
       "4833       0   47  38800.0               1\n",
       "4834       0   28  51300.0               1\n",
       "4835       0   32  32500.0               1\n",
       "4836       1   28  40900.0               1\n",
       "4837       0   22  56800.0               1\n",
       "4838       0   21  38300.0               3\n",
       "4839       0   45  54600.0               0\n",
       "4840       1   32  36000.0               1\n",
       "4841       1   26  51400.0               0\n",
       "4842       0   28  35700.0               2\n",
       "4843       0   34  52400.0               1\n",
       "4844       0   20  33900.0               2\n",
       "4845       1   22  32700.0               3\n",
       "4846       1   28  40600.0               1"
      ]
     },
     "execution_count": 149,
     "metadata": {},
     "output_type": "execute_result"
    }
   ],
   "source": [
    "df_pn.tail(15)"
   ]
  },
  {
   "cell_type": "markdown",
   "metadata": {},
   "source": [
    "The transformed one"
   ]
  },
  {
   "cell_type": "code",
   "execution_count": 150,
   "metadata": {},
   "outputs": [
    {
     "data": {
      "text/html": [
       "<div>\n",
       "<style scoped>\n",
       "    .dataframe tbody tr th:only-of-type {\n",
       "        vertical-align: middle;\n",
       "    }\n",
       "\n",
       "    .dataframe tbody tr th {\n",
       "        vertical-align: top;\n",
       "    }\n",
       "\n",
       "    .dataframe thead th {\n",
       "        text-align: right;\n",
       "    }\n",
       "</style>\n",
       "<table border=\"1\" class=\"dataframe\">\n",
       "  <thead>\n",
       "    <tr style=\"text-align: right;\">\n",
       "      <th></th>\n",
       "      <th>gender</th>\n",
       "      <th>age</th>\n",
       "      <th>income</th>\n",
       "      <th>family_members</th>\n",
       "    </tr>\n",
       "  </thead>\n",
       "  <tbody>\n",
       "    <tr>\n",
       "      <th>0</th>\n",
       "      <td>6359.715273</td>\n",
       "      <td>22380.404676</td>\n",
       "      <td>18424.090742</td>\n",
       "      <td>46000.696690</td>\n",
       "    </tr>\n",
       "    <tr>\n",
       "      <th>1</th>\n",
       "      <td>4873.294065</td>\n",
       "      <td>17160.367030</td>\n",
       "      <td>14125.780761</td>\n",
       "      <td>35253.455773</td>\n",
       "    </tr>\n",
       "    <tr>\n",
       "      <th>2</th>\n",
       "      <td>2693.117429</td>\n",
       "      <td>9486.397744</td>\n",
       "      <td>7808.831560</td>\n",
       "      <td>19484.860631</td>\n",
       "    </tr>\n",
       "    <tr>\n",
       "      <th>3</th>\n",
       "      <td>5345.603937</td>\n",
       "      <td>18803.227203</td>\n",
       "      <td>15479.148373</td>\n",
       "      <td>38663.061863</td>\n",
       "    </tr>\n",
       "    <tr>\n",
       "      <th>4</th>\n",
       "      <td>3347.176735</td>\n",
       "      <td>11782.829283</td>\n",
       "      <td>9699.998942</td>\n",
       "      <td>24211.273378</td>\n",
       "    </tr>\n",
       "    <tr>\n",
       "      <th>5</th>\n",
       "      <td>5258.770252</td>\n",
       "      <td>18509.859617</td>\n",
       "      <td>15237.193427</td>\n",
       "      <td>38032.317153</td>\n",
       "    </tr>\n",
       "    <tr>\n",
       "      <th>6</th>\n",
       "      <td>5091.845820</td>\n",
       "      <td>17920.455408</td>\n",
       "      <td>14752.111437</td>\n",
       "      <td>36824.378411</td>\n",
       "    </tr>\n",
       "    <tr>\n",
       "      <th>7</th>\n",
       "      <td>4950.890072</td>\n",
       "      <td>17413.017686</td>\n",
       "      <td>14334.464483</td>\n",
       "      <td>35794.386500</td>\n",
       "    </tr>\n",
       "    <tr>\n",
       "      <th>8</th>\n",
       "      <td>6372.055750</td>\n",
       "      <td>22420.565158</td>\n",
       "      <td>18457.364846</td>\n",
       "      <td>46089.442868</td>\n",
       "    </tr>\n",
       "    <tr>\n",
       "      <th>9</th>\n",
       "      <td>6627.906306</td>\n",
       "      <td>23317.434545</td>\n",
       "      <td>19195.916335</td>\n",
       "      <td>47939.828588</td>\n",
       "    </tr>\n",
       "    <tr>\n",
       "      <th>10</th>\n",
       "      <td>4692.731211</td>\n",
       "      <td>16509.777526</td>\n",
       "      <td>13591.538192</td>\n",
       "      <td>33940.174806</td>\n",
       "    </tr>\n",
       "    <tr>\n",
       "      <th>11</th>\n",
       "      <td>3758.082133</td>\n",
       "      <td>13233.820508</td>\n",
       "      <td>10894.164017</td>\n",
       "      <td>27184.781985</td>\n",
       "    </tr>\n",
       "    <tr>\n",
       "      <th>12</th>\n",
       "      <td>5064.586165</td>\n",
       "      <td>17815.152146</td>\n",
       "      <td>14665.358413</td>\n",
       "      <td>36625.978255</td>\n",
       "    </tr>\n",
       "    <tr>\n",
       "      <th>13</th>\n",
       "      <td>7048.227521</td>\n",
       "      <td>24791.714654</td>\n",
       "      <td>20409.875267</td>\n",
       "      <td>50988.581737</td>\n",
       "    </tr>\n",
       "    <tr>\n",
       "      <th>14</th>\n",
       "      <td>5602.976707</td>\n",
       "      <td>19721.713142</td>\n",
       "      <td>16234.762661</td>\n",
       "      <td>40531.299824</td>\n",
       "    </tr>\n",
       "  </tbody>\n",
       "</table>\n",
       "</div>"
      ],
      "text/plain": [
       "         gender           age        income  family_members\n",
       "0   6359.715273  22380.404676  18424.090742    46000.696690\n",
       "1   4873.294065  17160.367030  14125.780761    35253.455773\n",
       "2   2693.117429   9486.397744   7808.831560    19484.860631\n",
       "3   5345.603937  18803.227203  15479.148373    38663.061863\n",
       "4   3347.176735  11782.829283   9699.998942    24211.273378\n",
       "5   5258.770252  18509.859617  15237.193427    38032.317153\n",
       "6   5091.845820  17920.455408  14752.111437    36824.378411\n",
       "7   4950.890072  17413.017686  14334.464483    35794.386500\n",
       "8   6372.055750  22420.565158  18457.364846    46089.442868\n",
       "9   6627.906306  23317.434545  19195.916335    47939.828588\n",
       "10  4692.731211  16509.777526  13591.538192    33940.174806\n",
       "11  3758.082133  13233.820508  10894.164017    27184.781985\n",
       "12  5064.586165  17815.152146  14665.358413    36625.978255\n",
       "13  7048.227521  24791.714654  20409.875267    50988.581737\n",
       "14  5602.976707  19721.713142  16234.762661    40531.299824"
      ]
     },
     "execution_count": 150,
     "metadata": {},
     "output_type": "execute_result"
    }
   ],
   "source": [
    "obfs_df.head(15)"
   ]
  },
  {
   "cell_type": "markdown",
   "metadata": {},
   "source": [
    "The reversed (recovered) one"
   ]
  },
  {
   "cell_type": "code",
   "execution_count": 151,
   "metadata": {},
   "outputs": [
    {
     "data": {
      "text/html": [
       "<div>\n",
       "<style scoped>\n",
       "    .dataframe tbody tr th:only-of-type {\n",
       "        vertical-align: middle;\n",
       "    }\n",
       "\n",
       "    .dataframe tbody tr th {\n",
       "        vertical-align: top;\n",
       "    }\n",
       "\n",
       "    .dataframe thead th {\n",
       "        text-align: right;\n",
       "    }\n",
       "</style>\n",
       "<table border=\"1\" class=\"dataframe\">\n",
       "  <thead>\n",
       "    <tr style=\"text-align: right;\">\n",
       "      <th></th>\n",
       "      <th>gender</th>\n",
       "      <th>age</th>\n",
       "      <th>income</th>\n",
       "      <th>family_members</th>\n",
       "    </tr>\n",
       "  </thead>\n",
       "  <tbody>\n",
       "    <tr>\n",
       "      <th>4832</th>\n",
       "      <td>1</td>\n",
       "      <td>37</td>\n",
       "      <td>45800</td>\n",
       "      <td>0</td>\n",
       "    </tr>\n",
       "    <tr>\n",
       "      <th>4833</th>\n",
       "      <td>0</td>\n",
       "      <td>47</td>\n",
       "      <td>38800</td>\n",
       "      <td>0</td>\n",
       "    </tr>\n",
       "    <tr>\n",
       "      <th>4834</th>\n",
       "      <td>0</td>\n",
       "      <td>28</td>\n",
       "      <td>51299</td>\n",
       "      <td>0</td>\n",
       "    </tr>\n",
       "    <tr>\n",
       "      <th>4835</th>\n",
       "      <td>0</td>\n",
       "      <td>32</td>\n",
       "      <td>32499</td>\n",
       "      <td>1</td>\n",
       "    </tr>\n",
       "    <tr>\n",
       "      <th>4836</th>\n",
       "      <td>1</td>\n",
       "      <td>28</td>\n",
       "      <td>40899</td>\n",
       "      <td>0</td>\n",
       "    </tr>\n",
       "    <tr>\n",
       "      <th>4837</th>\n",
       "      <td>0</td>\n",
       "      <td>22</td>\n",
       "      <td>56799</td>\n",
       "      <td>1</td>\n",
       "    </tr>\n",
       "    <tr>\n",
       "      <th>4838</th>\n",
       "      <td>0</td>\n",
       "      <td>20</td>\n",
       "      <td>38300</td>\n",
       "      <td>3</td>\n",
       "    </tr>\n",
       "    <tr>\n",
       "      <th>4839</th>\n",
       "      <td>0</td>\n",
       "      <td>45</td>\n",
       "      <td>54600</td>\n",
       "      <td>0</td>\n",
       "    </tr>\n",
       "    <tr>\n",
       "      <th>4840</th>\n",
       "      <td>1</td>\n",
       "      <td>32</td>\n",
       "      <td>35999</td>\n",
       "      <td>1</td>\n",
       "    </tr>\n",
       "    <tr>\n",
       "      <th>4841</th>\n",
       "      <td>1</td>\n",
       "      <td>26</td>\n",
       "      <td>51399</td>\n",
       "      <td>0</td>\n",
       "    </tr>\n",
       "    <tr>\n",
       "      <th>4842</th>\n",
       "      <td>0</td>\n",
       "      <td>28</td>\n",
       "      <td>35699</td>\n",
       "      <td>1</td>\n",
       "    </tr>\n",
       "    <tr>\n",
       "      <th>4843</th>\n",
       "      <td>0</td>\n",
       "      <td>34</td>\n",
       "      <td>52400</td>\n",
       "      <td>0</td>\n",
       "    </tr>\n",
       "    <tr>\n",
       "      <th>4844</th>\n",
       "      <td>0</td>\n",
       "      <td>20</td>\n",
       "      <td>33900</td>\n",
       "      <td>1</td>\n",
       "    </tr>\n",
       "    <tr>\n",
       "      <th>4845</th>\n",
       "      <td>0</td>\n",
       "      <td>22</td>\n",
       "      <td>32700</td>\n",
       "      <td>3</td>\n",
       "    </tr>\n",
       "    <tr>\n",
       "      <th>4846</th>\n",
       "      <td>1</td>\n",
       "      <td>28</td>\n",
       "      <td>40599</td>\n",
       "      <td>1</td>\n",
       "    </tr>\n",
       "  </tbody>\n",
       "</table>\n",
       "</div>"
      ],
      "text/plain": [
       "      gender  age  income  family_members\n",
       "4832       1   37   45800               0\n",
       "4833       0   47   38800               0\n",
       "4834       0   28   51299               0\n",
       "4835       0   32   32499               1\n",
       "4836       1   28   40899               0\n",
       "4837       0   22   56799               1\n",
       "4838       0   20   38300               3\n",
       "4839       0   45   54600               0\n",
       "4840       1   32   35999               1\n",
       "4841       1   26   51399               0\n",
       "4842       0   28   35699               1\n",
       "4843       0   34   52400               0\n",
       "4844       0   20   33900               1\n",
       "4845       0   22   32700               3\n",
       "4846       1   28   40599               1"
      ]
     },
     "execution_count": 151,
     "metadata": {},
     "output_type": "execute_result"
    }
   ],
   "source": [
    "X_orig_df.tail(15)"
   ]
  },
  {
   "cell_type": "markdown",
   "metadata": {},
   "source": [
    "You can probably see that some values are not exactly the same as they are in the original data. What might be the reason for that?"
   ]
  },
  {
   "cell_type": "markdown",
   "metadata": {},
   "source": [
    "Maybe when we use this mathematical approach some data like 0 and 1 in float can be used as 0.5 and/or 0.8 and when it converted back the result can be different. But I would like to hear your opinion."
   ]
  },
  {
   "cell_type": "markdown",
   "metadata": {},
   "source": [
    "## Proof That Data Obfuscation Can Work with LR"
   ]
  },
  {
   "cell_type": "markdown",
   "metadata": {},
   "source": [
    "The regression task has been solved with linear regression in this project. Your next task is to prove _analytically_ that the given obfuscation method won't affect linear regression in terms of predicted values i.e. their values will remain the same. Can you believe that? Well, you don't have to, you should prove it!"
   ]
  },
  {
   "cell_type": "markdown",
   "metadata": {},
   "source": [
    "So, the data is obfuscated and there is $X \\times P$ instead of just $X$ now. Consequently, there are other weights $w_P$ as\n",
    "$$\n",
    "w = (X^T X)^{-1} X^T y \\quad \\Rightarrow \\quad w_P = [(XP)^T XP]^{-1} (XP)^T y\n",
    "$$\n",
    "\n",
    "How would $w$ and $w_P$ be linked if you simplify the formula for $w_P$ above? \n",
    "\n",
    "What would be predicted values with $w_P$? \n",
    "\n",
    "What does that mean for the quality of linear regression if you measure it with RMSE?\n",
    "\n",
    "Check Appendix B Properties of Matrices in the end of the notebook. There are useful formulas in there!\n",
    "\n",
    "No code is necessary in this section, only analytical explanation!"
   ]
  },
  {
   "cell_type": "markdown",
   "metadata": {},
   "source": [
    "**Answer**"
   ]
  },
  {
   "cell_type": "markdown",
   "metadata": {},
   "source": [
    "I we simplify the formula for $w_P$ we will get the following result:\n",
    "$$\n",
    "                           \\quad w_P = w [P]^{-1}\n",
    "$$\n",
    "\n",
    "We can say more or less that weight it is like a slope in linear functions so the slope $w_P$ is just differs from $w$ by inverse matrix $P$ hoever it wont change the RMSE and the predictions. We change the slope but not the behaviour of the data near the slope."
   ]
  },
  {
   "cell_type": "markdown",
   "metadata": {},
   "source": [
    "**Analytical proof**"
   ]
  },
  {
   "cell_type": "markdown",
   "metadata": {},
   "source": [
    "$$\n",
    "w_P = [(XP)^T XP]^{-1} XP^T y =\n",
    "$$\n",
    "\n",
    "$$\n",
    "    = [(XP)^T XP]^{-1} P^T X^T y =\n",
    "$$    \n",
    "\n",
    "$$\n",
    "    = P^{-1}(X^T X)^{-1}(P^T)^{-1} P^T X^T y =\n",
    "$$\n",
    "\n",
    "$$\n",
    "    = P^{-1}(X^T X)^{-1}I X^T y =\n",
    "$$\n",
    "\n",
    "$$\n",
    "    = P^{-1}(X^T X)^{-1} X^T y =\n",
    "$$\n",
    "\n",
    "Given that:\n",
    "\n",
    "$$\n",
    "    \\hat{y} = X_{val}w\n",
    "$$\n",
    "\n",
    "Let's insert original w:\n",
    "\n",
    "$$\n",
    "    \\hat{y} = X_{val}(X^T X)^{-1} X^T y\n",
    "$$\n",
    "\n",
    "Now let's insert Wp:\n",
    "\n",
    "$$\n",
    "    \\hat{y} = X_{val}PP^{-1}(X^T X)^{-1} X^T y\n",
    "$$\n",
    "\n",
    "$$\n",
    "    \\hat{y} = X_{val}I(X^T X)^{-1} X^T y\n",
    "$$\n",
    "\n",
    "$$\n",
    "    \\hat{y} = X_{val}(X^T X)^{-1} X^T y\n",
    "$$\n",
    "\n",
    "Results show the same predictions for original and obfuscated data."
   ]
  },
  {
   "cell_type": "markdown",
   "metadata": {},
   "source": [
    "## Test Linear Regression With Data Obfuscation"
   ]
  },
  {
   "cell_type": "markdown",
   "metadata": {},
   "source": [
    "Now, let's prove Linear Regression can work computationally with the chosen obfuscation transformation.\n",
    "\n",
    "Build a procedure or a class that runs Linear Regression optionally with the obfuscation. You can use either a ready implementation of Linear Regression from sciki-learn or your own.\n",
    "\n",
    "Run Linear Regression for the original data and the obfuscated one, compare the predicted values and the RMSE, $R^2$ metric values. Is there any difference?"
   ]
  },
  {
   "cell_type": "markdown",
   "metadata": {},
   "source": [
    "**Procedure**\n",
    "\n",
    "- Create a square matrix $P$ of random numbers.\n",
    "- Check that it is invertible. If not, repeat the first point until we get an invertible matrix.\n",
    "- <! your comment here !>\n",
    "- Use $XP$ as the new feature matrix"
   ]
  },
  {
   "cell_type": "code",
   "execution_count": 152,
   "metadata": {},
   "outputs": [],
   "source": [
    "#Create a square matrix  𝑃  of random numbers\n",
    "rng = np.random.default_rng(seed=42)\n",
    "P = rng.random(size=(X.shape[1], X.shape[1]))"
   ]
  },
  {
   "cell_type": "code",
   "execution_count": 153,
   "metadata": {},
   "outputs": [
    {
     "data": {
      "text/plain": [
       "array([[ 0.41467992, -1.43783972,  0.62798546,  1.14001268],\n",
       "       [-1.06101789,  0.44219337,  0.1329549 ,  1.18425933],\n",
       "       [ 1.42362442,  1.60461607, -2.0553823 , -1.53699695],\n",
       "       [-0.11128575, -0.65813802,  1.74995517, -0.11816316]])"
      ]
     },
     "execution_count": 153,
     "metadata": {},
     "output_type": "execute_result"
    }
   ],
   "source": [
    "#Check that it is invertible. If not, repeat the first point until we get an invertible matrix.\n",
    "np.linalg.inv(P)"
   ]
  },
  {
   "cell_type": "markdown",
   "metadata": {},
   "source": [
    "It is invertable because we don't get an error."
   ]
  },
  {
   "cell_type": "code",
   "execution_count": 154,
   "metadata": {
    "scrolled": true
   },
   "outputs": [
    {
     "data": {
      "text/html": [
       "<div>\n",
       "<style scoped>\n",
       "    .dataframe tbody tr th:only-of-type {\n",
       "        vertical-align: middle;\n",
       "    }\n",
       "\n",
       "    .dataframe tbody tr th {\n",
       "        vertical-align: top;\n",
       "    }\n",
       "\n",
       "    .dataframe thead th {\n",
       "        text-align: right;\n",
       "    }\n",
       "</style>\n",
       "<table border=\"1\" class=\"dataframe\">\n",
       "  <thead>\n",
       "    <tr style=\"text-align: right;\">\n",
       "      <th></th>\n",
       "      <th>gender</th>\n",
       "      <th>age</th>\n",
       "      <th>income</th>\n",
       "      <th>family_members</th>\n",
       "      <th>insurance_benefits</th>\n",
       "    </tr>\n",
       "  </thead>\n",
       "  <tbody>\n",
       "    <tr>\n",
       "      <th>0</th>\n",
       "      <td>6359.715273</td>\n",
       "      <td>22380.404676</td>\n",
       "      <td>18424.090742</td>\n",
       "      <td>46000.696690</td>\n",
       "      <td>0</td>\n",
       "    </tr>\n",
       "    <tr>\n",
       "      <th>1</th>\n",
       "      <td>4873.294065</td>\n",
       "      <td>17160.367030</td>\n",
       "      <td>14125.780761</td>\n",
       "      <td>35253.455773</td>\n",
       "      <td>1</td>\n",
       "    </tr>\n",
       "    <tr>\n",
       "      <th>2</th>\n",
       "      <td>2693.117429</td>\n",
       "      <td>9486.397744</td>\n",
       "      <td>7808.831560</td>\n",
       "      <td>19484.860631</td>\n",
       "      <td>0</td>\n",
       "    </tr>\n",
       "    <tr>\n",
       "      <th>3</th>\n",
       "      <td>5345.603937</td>\n",
       "      <td>18803.227203</td>\n",
       "      <td>15479.148373</td>\n",
       "      <td>38663.061863</td>\n",
       "      <td>0</td>\n",
       "    </tr>\n",
       "    <tr>\n",
       "      <th>4</th>\n",
       "      <td>3347.176735</td>\n",
       "      <td>11782.829283</td>\n",
       "      <td>9699.998942</td>\n",
       "      <td>24211.273378</td>\n",
       "      <td>0</td>\n",
       "    </tr>\n",
       "  </tbody>\n",
       "</table>\n",
       "</div>"
      ],
      "text/plain": [
       "        gender           age        income  family_members  insurance_benefits\n",
       "0  6359.715273  22380.404676  18424.090742    46000.696690                   0\n",
       "1  4873.294065  17160.367030  14125.780761    35253.455773                   1\n",
       "2  2693.117429   9486.397744   7808.831560    19484.860631                   0\n",
       "3  5345.603937  18803.227203  15479.148373    38663.061863                   0\n",
       "4  3347.176735  11782.829283   9699.998942    24211.273378                   0"
      ]
     },
     "execution_count": 154,
     "metadata": {},
     "output_type": "execute_result"
    }
   ],
   "source": [
    "#Obfuscated dataset\n",
    "x_obf = X @ P\n",
    "obf = pd.DataFrame(x_obf, columns = personal_info_column_list)\n",
    "df_obf = pd.concat([obf, df['insurance_benefits']], axis = 1)\n",
    "df_obf.head()\n"
   ]
  },
  {
   "cell_type": "code",
   "execution_count": 155,
   "metadata": {},
   "outputs": [],
   "source": [
    "from sklearn.linear_model import LinearRegression"
   ]
  },
  {
   "cell_type": "code",
   "execution_count": 168,
   "metadata": {},
   "outputs": [],
   "source": [
    "#Reression function\n",
    "def Myregression(features_train, target_train, features_test, target_test):\n",
    "    lr = LinearRegression()\n",
    "    lr.fit(features_train, target_train)\n",
    "    predictions = lr.predict(features_test)\n",
    "    rmse = math.sqrt(sklearn.metrics.mean_squared_error(target_test, predictions))\n",
    "    r2 =  math.sqrt(sklearn.metrics.r2_score(target_test, predictions))\n",
    "    print('RMSE:', rmse)\n",
    "    print()\n",
    "    print('R2:', r2)\n",
    "    return predictions[:10]"
   ]
  },
  {
   "cell_type": "markdown",
   "metadata": {},
   "source": [
    "Let's split the data for train and test for original and obfuscated dataset."
   ]
  },
  {
   "cell_type": "code",
   "execution_count": 163,
   "metadata": {},
   "outputs": [],
   "source": [
    "#original dataset.\n",
    "train_df, test_df = train_test_split(df, test_size = 0.3, random_state = 12345)\n"
   ]
  },
  {
   "cell_type": "code",
   "execution_count": 164,
   "metadata": {},
   "outputs": [],
   "source": [
    "#Obfuscated dataset.\n",
    "train_df_obf, test_df_obf=train_test_split(df_obf, test_size = 0.3, random_state = 12345) "
   ]
  },
  {
   "cell_type": "markdown",
   "metadata": {},
   "source": [
    "Creating features and target for train and test in original dataset."
   ]
  },
  {
   "cell_type": "code",
   "execution_count": 165,
   "metadata": {},
   "outputs": [],
   "source": [
    "# Original train data.\n",
    "or_features_train=train_df[personal_info_column_list]\n",
    "or_target_train=train_df['insurance_benefits']\n",
    "\n",
    "#Original test data.\n",
    "or_features_test=test_df[personal_info_column_list]\n",
    "or_target_test=test_df['insurance_benefits']"
   ]
  },
  {
   "cell_type": "markdown",
   "metadata": {},
   "source": [
    "Creating features and target for train and test in obfuscated dataset."
   ]
  },
  {
   "cell_type": "code",
   "execution_count": 166,
   "metadata": {},
   "outputs": [],
   "source": [
    "#Obfuscated train data.\n",
    "obf_features_train=train_df_obf[personal_info_column_list]\n",
    "obf_target_train=train_df_obf['insurance_benefits']\n",
    "\n",
    "#Obfuscated test data\n",
    "obf_features_test=test_df_obf[personal_info_column_list]\n",
    "obf_target_test=test_df_obf['insurance_benefits']"
   ]
  },
  {
   "cell_type": "code",
   "execution_count": 169,
   "metadata": {},
   "outputs": [
    {
     "name": "stdout",
     "output_type": "stream",
     "text": [
      "RMSE: 0.36017511750256037\n",
      "\n",
      "R2: 0.6579327672484367\n"
     ]
    },
    {
     "data": {
      "text/plain": [
       "array([-0.1066821 ,  0.22650175,  0.21925153,  0.40597151,  0.66140087,\n",
       "       -0.05461072,  0.39368465,  0.69725568,  0.73066003,  0.02886691])"
      ]
     },
     "execution_count": 169,
     "metadata": {},
     "output_type": "execute_result"
    }
   ],
   "source": [
    "# Applying Linear Regression function on the original dataset.\n",
    "Myregression(or_features_train, or_target_train, \n",
    "or_features_test, or_target_test)"
   ]
  },
  {
   "cell_type": "code",
   "execution_count": 170,
   "metadata": {
    "scrolled": true
   },
   "outputs": [
    {
     "name": "stdout",
     "output_type": "stream",
     "text": [
      "RMSE: 0.360175117502555\n",
      "\n",
      "R2: 0.6579327672484495\n"
     ]
    },
    {
     "data": {
      "text/plain": [
       "array([-0.1066821 ,  0.22650175,  0.21925153,  0.40597151,  0.66140087,\n",
       "       -0.05461072,  0.39368465,  0.69725568,  0.73066003,  0.02886691])"
      ]
     },
     "execution_count": 170,
     "metadata": {},
     "output_type": "execute_result"
    }
   ],
   "source": [
    "# Applying Linear Regression function on the obfuscated dataset.\n",
    "Myregression(obf_features_train, obf_target_train, \n",
    "obf_features_test, obf_target_test)"
   ]
  },
  {
   "cell_type": "markdown",
   "metadata": {},
   "source": [
    "The results shows that the RMSE and R2 score is the same for both datatypes."
   ]
  },
  {
   "cell_type": "markdown",
   "metadata": {},
   "source": [
    "# Conclusions"
   ]
  },
  {
   "cell_type": "markdown",
   "metadata": {},
   "source": [
    "Removed duplicates and no missing values were found.\n",
    "\n",
    "From the data analysis I didn't removed so called outliers becuse all of them showed yet normal values in my opinion."
   ]
  },
  {
   "cell_type": "markdown",
   "metadata": {},
   "source": [
    "Scalling the data improved significantly KNN algorithm. "
   ]
  },
  {
   "cell_type": "markdown",
   "metadata": {},
   "source": [
    "The Manhattan and the Euclidean distance metrics had almost the same \n",
    "results for the non-scaled dataset. However, with scaled data, the \n",
    "Euclidean distance metric returned shorter distances than the Manhattan \n",
    "distance metric becuse Euclidean metrics is the \"AIR\" way and Manhattan is not."
   ]
  },
  {
   "cell_type": "markdown",
   "metadata": {},
   "source": [
    "Increasing number of neighbours caused lower predictions for original data and scaled data however for scaled data the predictions were better."
   ]
  },
  {
   "cell_type": "markdown",
   "metadata": {},
   "source": [
    "When we perform cross product on X (features) with P matrix the result is \"corrupted data\" but in reality we just hide the real information from people we don't want to see the data. We also checked that RMSE and R2 score for original data and hidden data are the same."
   ]
  },
  {
   "cell_type": "markdown",
   "metadata": {},
   "source": [
    "# Checklist"
   ]
  },
  {
   "cell_type": "markdown",
   "metadata": {},
   "source": [
    "Type 'x' to check. Then press Shift+Enter."
   ]
  },
  {
   "cell_type": "markdown",
   "metadata": {},
   "source": [
    "- [x]  Jupyter Notebook is open\n",
    "- [ ]  Code is error free\n",
    "- [ ]  The cells are arranged in order of logic and execution\n",
    "- [ ]  Task 1 has been performed\n",
    "    - [ ]  There is the procedure that can return k similar customers for a given one\n",
    "    - [ ]  The procedure is tested for all four proposed combinations\n",
    "    - [ ]  The questions re the scaling/distances are answered\n",
    "- [ ]  Task 2 has been performed\n",
    "    - [ ]  The random classification model is built and tested for all for probability levels\n",
    "    - [ ]  The kNN classification model is built and tested for both the original data and the scaled one, the F1 metric is calculated.\n",
    "- [ ]  Task 3 has been performed\n",
    "    - [ ]  The linear tegression solution is implemented with matrix operations.\n",
    "    - [ ]  RMSE is calculated for the implemented solution.\n",
    "- [ ]  Task 4 has been performed\n",
    "    - [ ]  The data is obfuscated with a random and invertible matrix P\n",
    "    - [ ]  The obfuscated data is recoved, few examples are printed out\n",
    "    - [ ]  The analytical proof that the transformation does not affect RMSE is provided \n",
    "    - [ ]  The computational proof that the transformation does not affect RMSE is provided\n",
    "- [ ]  Conclusions have been made"
   ]
  },
  {
   "cell_type": "markdown",
   "metadata": {},
   "source": [
    "# Appendices \n",
    "\n",
    "## Appendix A: Writing Formulas in Jupyter Notebooks"
   ]
  },
  {
   "cell_type": "markdown",
   "metadata": {},
   "source": [
    "You can write formulas in your Jupyter Notebook in a markup language provided by a high-quality publishing system called $\\LaTeX$ (pronounced \"Lah-tech\"), and they will look like formulas in textbooks.\n",
    "\n",
    "To put a formula in a text, put the dollar sign (\\\\$) before and after the formula's text e.g. $\\frac{1}{2} \\times \\frac{3}{2} = \\frac{3}{4}$ or $y = x^2, x \\ge 1$.\n",
    "\n",
    "If a formula should be in its own paragraph, put the double dollar sign (\\\\$\\\\$) before and after the formula text e.g.\n",
    "\n",
    "$$\n",
    "\\bar{x} = \\frac{1}{n}\\sum_{i=1}^{n} x_i.\n",
    "$$\n",
    "\n",
    "The markup language of [LaTeX](https://en.wikipedia.org/wiki/LaTeX) is very popular among people who use formulas in their articles, books and texts. It can be complex but its basics are easy. Check this two page [cheatsheet](http://tug.ctan.org/info/undergradmath/undergradmath.pdf) for learning how to compose the most common formulas."
   ]
  },
  {
   "cell_type": "markdown",
   "metadata": {},
   "source": [
    "## Appendix B: Properties of Matrices"
   ]
  },
  {
   "cell_type": "markdown",
   "metadata": {},
   "source": [
    "Matrices have many properties in Linear Algebra. A few of them are listed here which can help with the analytical proof in this project."
   ]
  },
  {
   "cell_type": "markdown",
   "metadata": {},
   "source": [
    "<table>\n",
    "<tr>\n",
    "<td>Distributivity</td><td>$A(B+C)=AB+AC$</td>\n",
    "</tr>\n",
    "<tr>\n",
    "<td>Non-commutativity</td><td>$AB \\neq BA$</td>\n",
    "</tr>\n",
    "<tr>\n",
    "<td>Associative property of multiplication</td><td>$(AB)C = A(BC)$</td>\n",
    "</tr>\n",
    "<tr>\n",
    "<td>Multiplicative identity property</td><td>$IA = AI = A$</td>\n",
    "</tr>\n",
    "<tr>\n",
    "<td></td><td>$A^{-1}A = AA^{-1} = I$\n",
    "</td>\n",
    "</tr>    \n",
    "<tr>\n",
    "<td></td><td>$(AB)^{-1} = B^{-1}A^{-1}$</td>\n",
    "</tr>    \n",
    "<tr>\n",
    "<td>Reversivity of the transpose of a product of matrices,</td><td>$(AB)^T = B^TA^T$</td>\n",
    "</tr>    \n",
    "</table>"
   ]
  },
  {
   "cell_type": "code",
   "execution_count": null,
   "metadata": {},
   "outputs": [],
   "source": []
  }
 ],
 "metadata": {
  "ExecuteTimeLog": [
   {
    "duration": 64,
    "start_time": "2022-05-18T12:34:11.686Z"
   },
   {
    "duration": 5278,
    "start_time": "2022-05-18T12:34:19.857Z"
   },
   {
    "duration": 1613,
    "start_time": "2022-05-18T12:34:29.142Z"
   },
   {
    "duration": 123,
    "start_time": "2022-05-18T12:34:34.829Z"
   },
   {
    "duration": 4,
    "start_time": "2022-05-18T12:34:36.578Z"
   },
   {
    "duration": 23,
    "start_time": "2022-05-18T12:34:37.646Z"
   },
   {
    "duration": 17,
    "start_time": "2022-05-18T12:34:42.107Z"
   },
   {
    "duration": 15,
    "start_time": "2022-05-18T12:34:50.847Z"
   },
   {
    "duration": 3,
    "start_time": "2022-05-18T12:35:05.431Z"
   },
   {
    "duration": 20,
    "start_time": "2022-05-18T12:35:30.095Z"
   },
   {
    "duration": 10,
    "start_time": "2022-05-18T12:35:56.553Z"
   },
   {
    "duration": 12,
    "start_time": "2022-05-18T12:35:57.770Z"
   },
   {
    "duration": 13,
    "start_time": "2022-05-18T12:36:45.903Z"
   },
   {
    "duration": 14,
    "start_time": "2022-05-18T12:36:47.091Z"
   },
   {
    "duration": 13,
    "start_time": "2022-05-18T12:38:22.757Z"
   },
   {
    "duration": 12,
    "start_time": "2022-05-18T12:38:28.411Z"
   },
   {
    "duration": 10,
    "start_time": "2022-05-18T12:39:39.042Z"
   },
   {
    "duration": 13,
    "start_time": "2022-05-18T12:39:40.346Z"
   },
   {
    "duration": 3,
    "start_time": "2022-05-18T12:39:51.966Z"
   },
   {
    "duration": 30,
    "start_time": "2022-05-18T12:39:56.239Z"
   },
   {
    "duration": 5,
    "start_time": "2022-05-18T12:39:57.956Z"
   },
   {
    "duration": 13,
    "start_time": "2022-05-18T12:39:58.799Z"
   },
   {
    "duration": 20,
    "start_time": "2022-05-18T12:39:59.976Z"
   },
   {
    "duration": 12,
    "start_time": "2022-05-18T12:40:04.013Z"
   },
   {
    "duration": 14,
    "start_time": "2022-05-18T12:40:06.957Z"
   },
   {
    "duration": 9,
    "start_time": "2022-05-18T12:41:12.670Z"
   },
   {
    "duration": 12,
    "start_time": "2022-05-18T12:41:16.222Z"
   },
   {
    "duration": 4,
    "start_time": "2022-05-18T12:46:27.068Z"
   },
   {
    "duration": 4,
    "start_time": "2022-05-18T12:46:39.868Z"
   },
   {
    "duration": 80,
    "start_time": "2022-05-18T12:47:21.146Z"
   },
   {
    "duration": 13,
    "start_time": "2022-05-18T12:47:36.005Z"
   },
   {
    "duration": 6,
    "start_time": "2022-05-18T12:47:54.367Z"
   },
   {
    "duration": 12,
    "start_time": "2022-05-18T12:52:57.949Z"
   },
   {
    "duration": 5,
    "start_time": "2022-05-18T12:53:09.969Z"
   },
   {
    "duration": 12,
    "start_time": "2022-05-18T12:55:03.426Z"
   },
   {
    "duration": 3519,
    "start_time": "2022-05-18T12:55:41.327Z"
   },
   {
    "duration": 64,
    "start_time": "2022-05-18T12:55:52.879Z"
   },
   {
    "duration": 8,
    "start_time": "2022-05-18T12:56:22.840Z"
   },
   {
    "duration": 17,
    "start_time": "2022-05-18T12:58:15.576Z"
   },
   {
    "duration": 2445,
    "start_time": "2022-05-18T13:00:59.535Z"
   },
   {
    "duration": 23,
    "start_time": "2022-05-18T13:01:08.210Z"
   },
   {
    "duration": 34,
    "start_time": "2022-05-18T13:01:43.158Z"
   },
   {
    "duration": 5,
    "start_time": "2022-05-18T13:01:44.554Z"
   },
   {
    "duration": 16,
    "start_time": "2022-05-18T13:01:45.265Z"
   },
   {
    "duration": 20,
    "start_time": "2022-05-18T13:01:47.799Z"
   },
   {
    "duration": 15,
    "start_time": "2022-05-18T13:01:48.692Z"
   },
   {
    "duration": 14,
    "start_time": "2022-05-18T13:01:51.014Z"
   },
   {
    "duration": 4,
    "start_time": "2022-05-18T13:01:53.445Z"
   },
   {
    "duration": 10,
    "start_time": "2022-05-18T13:01:54.205Z"
   },
   {
    "duration": 14,
    "start_time": "2022-05-18T13:01:55.638Z"
   },
   {
    "duration": 5,
    "start_time": "2022-05-18T13:01:56.414Z"
   },
   {
    "duration": 15,
    "start_time": "2022-05-18T13:01:58.047Z"
   },
   {
    "duration": 13,
    "start_time": "2022-05-18T13:02:02.269Z"
   },
   {
    "duration": 1012,
    "start_time": "2022-05-18T13:02:24.523Z"
   },
   {
    "duration": 9,
    "start_time": "2022-05-18T13:03:04.663Z"
   },
   {
    "duration": 6,
    "start_time": "2022-05-18T13:03:35.163Z"
   },
   {
    "duration": 197,
    "start_time": "2022-05-18T13:04:50.540Z"
   },
   {
    "duration": 193,
    "start_time": "2022-05-18T13:05:00.268Z"
   },
   {
    "duration": 165,
    "start_time": "2022-05-18T13:06:24.174Z"
   },
   {
    "duration": 7,
    "start_time": "2022-05-18T13:06:51.845Z"
   },
   {
    "duration": 277,
    "start_time": "2022-05-18T13:07:27.866Z"
   },
   {
    "duration": 146,
    "start_time": "2022-05-18T13:08:14.610Z"
   },
   {
    "duration": 153,
    "start_time": "2022-05-18T13:08:22.766Z"
   },
   {
    "duration": 154,
    "start_time": "2022-05-18T13:16:02.698Z"
   },
   {
    "duration": 4,
    "start_time": "2022-05-18T13:17:42.563Z"
   },
   {
    "duration": 267,
    "start_time": "2022-05-18T13:17:45.501Z"
   },
   {
    "duration": 201,
    "start_time": "2022-05-18T13:18:29.401Z"
   },
   {
    "duration": 112,
    "start_time": "2022-05-18T13:19:59.508Z"
   },
   {
    "duration": 23,
    "start_time": "2022-05-18T13:20:49.601Z"
   },
   {
    "duration": 135,
    "start_time": "2022-05-18T13:23:38.941Z"
   },
   {
    "duration": 166,
    "start_time": "2022-05-18T13:24:03.511Z"
   },
   {
    "duration": 162,
    "start_time": "2022-05-18T13:28:47.387Z"
   },
   {
    "duration": 140,
    "start_time": "2022-05-18T13:29:29.163Z"
   },
   {
    "duration": 122,
    "start_time": "2022-05-18T13:29:44.978Z"
   },
   {
    "duration": 100,
    "start_time": "2022-05-18T13:29:51.066Z"
   },
   {
    "duration": 151,
    "start_time": "2022-05-18T13:30:31.187Z"
   },
   {
    "duration": 12,
    "start_time": "2022-05-18T13:35:19.575Z"
   },
   {
    "duration": 399,
    "start_time": "2022-05-18T13:36:40.690Z"
   },
   {
    "duration": 4,
    "start_time": "2022-05-18T15:10:41.958Z"
   },
   {
    "duration": 3,
    "start_time": "2022-05-18T15:12:20.075Z"
   },
   {
    "duration": 4,
    "start_time": "2022-05-18T15:12:20.890Z"
   },
   {
    "duration": 11,
    "start_time": "2022-05-18T15:12:25.758Z"
   },
   {
    "duration": 11,
    "start_time": "2022-05-18T15:12:26.548Z"
   },
   {
    "duration": 3025,
    "start_time": "2022-05-18T15:17:53.287Z"
   },
   {
    "duration": 2116,
    "start_time": "2022-05-18T15:18:01.887Z"
   },
   {
    "duration": 30,
    "start_time": "2022-05-18T15:18:12.486Z"
   },
   {
    "duration": 4,
    "start_time": "2022-05-18T15:18:14.076Z"
   },
   {
    "duration": 13,
    "start_time": "2022-05-18T15:18:14.805Z"
   },
   {
    "duration": 12,
    "start_time": "2022-05-18T15:18:18.698Z"
   },
   {
    "duration": 11,
    "start_time": "2022-05-18T15:18:19.893Z"
   },
   {
    "duration": 13,
    "start_time": "2022-05-18T15:18:23.704Z"
   },
   {
    "duration": 4,
    "start_time": "2022-05-18T15:18:24.970Z"
   },
   {
    "duration": 7,
    "start_time": "2022-05-18T15:18:25.810Z"
   },
   {
    "duration": 10,
    "start_time": "2022-05-18T15:18:27.267Z"
   },
   {
    "duration": 5,
    "start_time": "2022-05-18T15:18:30.924Z"
   },
   {
    "duration": 13,
    "start_time": "2022-05-18T15:18:32.586Z"
   },
   {
    "duration": 118,
    "start_time": "2022-05-18T15:18:35.129Z"
   },
   {
    "duration": 8,
    "start_time": "2022-05-18T15:18:38.291Z"
   },
   {
    "duration": 172,
    "start_time": "2022-05-18T15:18:39.756Z"
   },
   {
    "duration": 325,
    "start_time": "2022-05-18T15:18:43.585Z"
   },
   {
    "duration": 146,
    "start_time": "2022-05-18T15:18:46.651Z"
   },
   {
    "duration": 3,
    "start_time": "2022-05-18T15:18:47.911Z"
   },
   {
    "duration": 162,
    "start_time": "2022-05-18T15:18:52.014Z"
   },
   {
    "duration": 166,
    "start_time": "2022-05-18T15:18:59.574Z"
   },
   {
    "duration": 107,
    "start_time": "2022-05-18T15:19:03.470Z"
   },
   {
    "duration": 190,
    "start_time": "2022-05-18T15:19:07.920Z"
   },
   {
    "duration": 434,
    "start_time": "2022-05-18T15:19:11.839Z"
   },
   {
    "duration": 3855,
    "start_time": "2022-05-18T15:19:19.906Z"
   },
   {
    "duration": 3,
    "start_time": "2022-05-18T15:19:35.091Z"
   },
   {
    "duration": 4,
    "start_time": "2022-05-18T15:19:36.390Z"
   },
   {
    "duration": 11,
    "start_time": "2022-05-18T15:19:40.027Z"
   },
   {
    "duration": 10,
    "start_time": "2022-05-18T15:20:52.374Z"
   },
   {
    "duration": 10,
    "start_time": "2022-05-18T15:20:59.300Z"
   },
   {
    "duration": 10,
    "start_time": "2022-05-18T15:21:04.923Z"
   },
   {
    "duration": 4,
    "start_time": "2022-05-18T15:23:17.083Z"
   },
   {
    "duration": 10,
    "start_time": "2022-05-18T15:23:18.752Z"
   },
   {
    "duration": 5,
    "start_time": "2022-05-18T15:35:54.275Z"
   },
   {
    "duration": 11,
    "start_time": "2022-05-18T15:35:56.272Z"
   },
   {
    "duration": 5,
    "start_time": "2022-05-18T15:39:41.269Z"
   },
   {
    "duration": 10,
    "start_time": "2022-05-18T15:39:57.246Z"
   },
   {
    "duration": 6,
    "start_time": "2022-05-18T15:42:56.678Z"
   },
   {
    "duration": 12,
    "start_time": "2022-05-18T15:42:57.944Z"
   },
   {
    "duration": 17,
    "start_time": "2022-05-18T15:44:03.250Z"
   },
   {
    "duration": 2368,
    "start_time": "2022-05-18T15:44:28.583Z"
   },
   {
    "duration": 5,
    "start_time": "2022-05-18T15:44:46.847Z"
   },
   {
    "duration": 24,
    "start_time": "2022-05-18T15:44:47.721Z"
   },
   {
    "duration": 5,
    "start_time": "2022-05-18T15:45:12.031Z"
   },
   {
    "duration": 208,
    "start_time": "2022-05-18T15:45:12.840Z"
   },
   {
    "duration": 12,
    "start_time": "2022-05-18T15:46:10.570Z"
   },
   {
    "duration": 5,
    "start_time": "2022-05-18T15:46:20.983Z"
   },
   {
    "duration": 16,
    "start_time": "2022-05-18T15:48:09.307Z"
   },
   {
    "duration": 3,
    "start_time": "2022-05-18T15:48:24.549Z"
   },
   {
    "duration": 9,
    "start_time": "2022-05-18T15:48:35.956Z"
   },
   {
    "duration": 4,
    "start_time": "2022-05-18T15:48:44.320Z"
   },
   {
    "duration": 249,
    "start_time": "2022-05-18T15:48:55.849Z"
   },
   {
    "duration": 3,
    "start_time": "2022-05-18T15:49:31.818Z"
   },
   {
    "duration": 5,
    "start_time": "2022-05-18T15:49:32.441Z"
   },
   {
    "duration": 190,
    "start_time": "2022-05-18T15:49:34.138Z"
   },
   {
    "duration": 10,
    "start_time": "2022-05-18T15:50:32.705Z"
   },
   {
    "duration": 5,
    "start_time": "2022-05-18T15:50:33.689Z"
   },
   {
    "duration": 4,
    "start_time": "2022-05-18T15:50:34.504Z"
   },
   {
    "duration": 15,
    "start_time": "2022-05-18T15:50:36.161Z"
   },
   {
    "duration": 16,
    "start_time": "2022-05-18T15:51:04.327Z"
   },
   {
    "duration": 30,
    "start_time": "2022-05-18T15:51:19.190Z"
   },
   {
    "duration": 4,
    "start_time": "2022-05-18T15:51:20.453Z"
   },
   {
    "duration": 12,
    "start_time": "2022-05-18T15:51:21.205Z"
   },
   {
    "duration": 11,
    "start_time": "2022-05-18T15:51:25.349Z"
   },
   {
    "duration": 14,
    "start_time": "2022-05-18T15:51:26.628Z"
   },
   {
    "duration": 12,
    "start_time": "2022-05-18T15:51:27.660Z"
   },
   {
    "duration": 4,
    "start_time": "2022-05-18T15:51:28.665Z"
   },
   {
    "duration": 7,
    "start_time": "2022-05-18T15:51:31.978Z"
   },
   {
    "duration": 11,
    "start_time": "2022-05-18T15:51:33.547Z"
   },
   {
    "duration": 4,
    "start_time": "2022-05-18T15:51:34.368Z"
   },
   {
    "duration": 9,
    "start_time": "2022-05-18T15:51:35.434Z"
   },
   {
    "duration": 9,
    "start_time": "2022-05-18T15:52:29.609Z"
   },
   {
    "duration": 8,
    "start_time": "2022-05-18T15:53:39.912Z"
   },
   {
    "duration": 11,
    "start_time": "2022-05-18T15:54:35.145Z"
   },
   {
    "duration": 10,
    "start_time": "2022-05-18T15:56:38.170Z"
   },
   {
    "duration": 13,
    "start_time": "2022-05-18T15:56:43.193Z"
   },
   {
    "duration": 15,
    "start_time": "2022-05-18T15:57:56.046Z"
   },
   {
    "duration": 12,
    "start_time": "2022-05-18T15:59:02.509Z"
   },
   {
    "duration": 9,
    "start_time": "2022-05-18T15:59:14.842Z"
   },
   {
    "duration": 31,
    "start_time": "2022-05-18T15:59:25.626Z"
   },
   {
    "duration": 5,
    "start_time": "2022-05-18T15:59:26.909Z"
   },
   {
    "duration": 11,
    "start_time": "2022-05-18T15:59:27.490Z"
   },
   {
    "duration": 10,
    "start_time": "2022-05-18T15:59:29.613Z"
   },
   {
    "duration": 12,
    "start_time": "2022-05-18T15:59:33.179Z"
   },
   {
    "duration": 17,
    "start_time": "2022-05-18T15:59:34.098Z"
   },
   {
    "duration": 6,
    "start_time": "2022-05-18T15:59:38.082Z"
   },
   {
    "duration": 8,
    "start_time": "2022-05-18T15:59:38.785Z"
   },
   {
    "duration": 9,
    "start_time": "2022-05-18T15:59:40.066Z"
   },
   {
    "duration": 4,
    "start_time": "2022-05-18T15:59:41.137Z"
   },
   {
    "duration": 12,
    "start_time": "2022-05-18T15:59:41.954Z"
   },
   {
    "duration": 3,
    "start_time": "2022-05-18T16:00:33.770Z"
   },
   {
    "duration": 5,
    "start_time": "2022-05-18T16:00:34.556Z"
   },
   {
    "duration": 203,
    "start_time": "2022-05-18T16:00:36.525Z"
   },
   {
    "duration": 10,
    "start_time": "2022-05-18T16:01:53.004Z"
   },
   {
    "duration": 194,
    "start_time": "2022-05-18T16:02:01.349Z"
   },
   {
    "duration": 11,
    "start_time": "2022-05-18T16:07:44.450Z"
   },
   {
    "duration": 9,
    "start_time": "2022-05-18T16:08:01.180Z"
   },
   {
    "duration": 11,
    "start_time": "2022-05-18T16:10:31.424Z"
   },
   {
    "duration": 10,
    "start_time": "2022-05-18T16:10:32.104Z"
   },
   {
    "duration": 21,
    "start_time": "2022-05-18T16:13:53.186Z"
   },
   {
    "duration": 22,
    "start_time": "2022-05-18T16:14:03.283Z"
   },
   {
    "duration": 48,
    "start_time": "2022-05-18T16:18:08.998Z"
   },
   {
    "duration": 14,
    "start_time": "2022-05-18T16:19:25.621Z"
   },
   {
    "duration": 13,
    "start_time": "2022-05-18T16:19:26.597Z"
   },
   {
    "duration": 11,
    "start_time": "2022-05-18T16:19:35.629Z"
   },
   {
    "duration": 13,
    "start_time": "2022-05-18T16:19:36.398Z"
   },
   {
    "duration": 22,
    "start_time": "2022-05-18T16:19:39.930Z"
   },
   {
    "duration": 32,
    "start_time": "2022-05-18T16:19:43.617Z"
   },
   {
    "duration": 23,
    "start_time": "2022-05-18T16:20:42.566Z"
   },
   {
    "duration": 39,
    "start_time": "2022-05-18T16:20:54.574Z"
   },
   {
    "duration": 4493,
    "start_time": "2022-05-20T18:20:51.790Z"
   },
   {
    "duration": 15531,
    "start_time": "2022-05-20T18:20:56.286Z"
   },
   {
    "duration": 103,
    "start_time": "2022-05-20T18:21:11.820Z"
   },
   {
    "duration": 4,
    "start_time": "2022-05-20T18:21:11.926Z"
   },
   {
    "duration": 26,
    "start_time": "2022-05-20T18:21:11.932Z"
   },
   {
    "duration": 16,
    "start_time": "2022-05-20T18:21:11.960Z"
   },
   {
    "duration": 11,
    "start_time": "2022-05-20T18:21:11.979Z"
   },
   {
    "duration": 22,
    "start_time": "2022-05-20T18:21:11.992Z"
   },
   {
    "duration": 8,
    "start_time": "2022-05-20T18:21:12.017Z"
   },
   {
    "duration": 8,
    "start_time": "2022-05-20T18:21:12.043Z"
   },
   {
    "duration": 15,
    "start_time": "2022-05-20T18:21:12.052Z"
   },
   {
    "duration": 4,
    "start_time": "2022-05-20T18:21:12.069Z"
   },
   {
    "duration": 10,
    "start_time": "2022-05-20T18:21:12.075Z"
   },
   {
    "duration": 81,
    "start_time": "2022-05-20T18:21:12.087Z"
   },
   {
    "duration": 142,
    "start_time": "2022-05-20T18:21:12.170Z"
   },
   {
    "duration": 5,
    "start_time": "2022-05-20T18:21:12.314Z"
   },
   {
    "duration": 209,
    "start_time": "2022-05-20T18:21:12.321Z"
   },
   {
    "duration": 219,
    "start_time": "2022-05-20T18:21:12.532Z"
   },
   {
    "duration": 189,
    "start_time": "2022-05-20T18:21:12.753Z"
   },
   {
    "duration": 3,
    "start_time": "2022-05-20T18:21:12.944Z"
   },
   {
    "duration": 208,
    "start_time": "2022-05-20T18:21:12.949Z"
   },
   {
    "duration": 169,
    "start_time": "2022-05-20T18:21:13.159Z"
   },
   {
    "duration": 153,
    "start_time": "2022-05-20T18:21:13.330Z"
   },
   {
    "duration": 179,
    "start_time": "2022-05-20T18:21:13.485Z"
   },
   {
    "duration": 439,
    "start_time": "2022-05-20T18:21:13.666Z"
   },
   {
    "duration": 4308,
    "start_time": "2022-05-20T18:21:14.108Z"
   },
   {
    "duration": 3,
    "start_time": "2022-05-20T18:21:18.418Z"
   },
   {
    "duration": 16,
    "start_time": "2022-05-20T18:21:18.425Z"
   },
   {
    "duration": 16,
    "start_time": "2022-05-20T18:21:18.443Z"
   },
   {
    "duration": 13,
    "start_time": "2022-05-20T18:21:18.460Z"
   },
   {
    "duration": 20,
    "start_time": "2022-05-20T18:21:18.474Z"
   },
   {
    "duration": 13,
    "start_time": "2022-05-20T18:21:18.496Z"
   },
   {
    "duration": 39,
    "start_time": "2022-05-20T18:21:18.510Z"
   },
   {
    "duration": 30,
    "start_time": "2022-05-20T18:21:18.551Z"
   },
   {
    "duration": 30,
    "start_time": "2022-05-20T18:21:18.583Z"
   },
   {
    "duration": 40,
    "start_time": "2022-05-20T18:21:18.615Z"
   },
   {
    "duration": 0,
    "start_time": "2022-05-20T18:21:18.658Z"
   },
   {
    "duration": 0,
    "start_time": "2022-05-20T18:21:18.659Z"
   },
   {
    "duration": 0,
    "start_time": "2022-05-20T18:21:18.660Z"
   },
   {
    "duration": 0,
    "start_time": "2022-05-20T18:21:18.662Z"
   },
   {
    "duration": 0,
    "start_time": "2022-05-20T18:21:18.663Z"
   },
   {
    "duration": 0,
    "start_time": "2022-05-20T18:21:18.664Z"
   },
   {
    "duration": 0,
    "start_time": "2022-05-20T18:21:18.665Z"
   },
   {
    "duration": 0,
    "start_time": "2022-05-20T18:21:18.666Z"
   },
   {
    "duration": 0,
    "start_time": "2022-05-20T18:21:18.668Z"
   },
   {
    "duration": 0,
    "start_time": "2022-05-20T18:21:18.669Z"
   },
   {
    "duration": 19,
    "start_time": "2022-05-20T18:39:15.452Z"
   },
   {
    "duration": 20,
    "start_time": "2022-05-20T18:41:13.735Z"
   },
   {
    "duration": 16,
    "start_time": "2022-05-20T18:42:43.214Z"
   },
   {
    "duration": 10,
    "start_time": "2022-05-20T18:42:50.492Z"
   },
   {
    "duration": 11,
    "start_time": "2022-05-20T19:10:10.477Z"
   },
   {
    "duration": 7,
    "start_time": "2022-05-20T19:11:47.195Z"
   },
   {
    "duration": 142,
    "start_time": "2022-05-20T19:12:26.267Z"
   },
   {
    "duration": 6,
    "start_time": "2022-05-20T19:12:46.717Z"
   },
   {
    "duration": 5,
    "start_time": "2022-05-20T19:12:58.717Z"
   },
   {
    "duration": 8,
    "start_time": "2022-05-20T19:13:11.074Z"
   },
   {
    "duration": 3,
    "start_time": "2022-05-20T19:18:14.456Z"
   },
   {
    "duration": 3,
    "start_time": "2022-05-20T19:20:32.580Z"
   },
   {
    "duration": 26,
    "start_time": "2022-05-20T19:25:56.559Z"
   },
   {
    "duration": 21,
    "start_time": "2022-05-20T19:27:43.211Z"
   },
   {
    "duration": 27,
    "start_time": "2022-05-20T19:29:01.975Z"
   },
   {
    "duration": 12,
    "start_time": "2022-05-20T19:29:40.448Z"
   },
   {
    "duration": 23,
    "start_time": "2022-05-20T19:29:52.277Z"
   },
   {
    "duration": 21,
    "start_time": "2022-05-20T19:30:30.527Z"
   },
   {
    "duration": 23,
    "start_time": "2022-05-20T19:31:05.030Z"
   },
   {
    "duration": 35,
    "start_time": "2022-05-20T19:33:03.895Z"
   },
   {
    "duration": 22,
    "start_time": "2022-05-20T19:33:33.465Z"
   },
   {
    "duration": 26,
    "start_time": "2022-05-20T19:33:57.175Z"
   },
   {
    "duration": 20,
    "start_time": "2022-05-20T19:35:45.769Z"
   },
   {
    "duration": 33,
    "start_time": "2022-05-20T19:36:14.141Z"
   },
   {
    "duration": 21,
    "start_time": "2022-05-20T19:36:23.316Z"
   },
   {
    "duration": 57,
    "start_time": "2022-05-23T14:37:33.173Z"
   },
   {
    "duration": 4612,
    "start_time": "2022-05-23T14:38:00.556Z"
   },
   {
    "duration": 4200,
    "start_time": "2022-05-23T14:38:05.171Z"
   },
   {
    "duration": 41,
    "start_time": "2022-05-23T14:38:09.373Z"
   },
   {
    "duration": 3,
    "start_time": "2022-05-23T14:38:09.416Z"
   },
   {
    "duration": 19,
    "start_time": "2022-05-23T14:38:09.421Z"
   },
   {
    "duration": 11,
    "start_time": "2022-05-23T14:38:09.442Z"
   },
   {
    "duration": 25,
    "start_time": "2022-05-23T14:38:09.455Z"
   },
   {
    "duration": 10,
    "start_time": "2022-05-23T14:38:09.482Z"
   },
   {
    "duration": 3,
    "start_time": "2022-05-23T14:38:09.494Z"
   },
   {
    "duration": 7,
    "start_time": "2022-05-23T14:38:09.500Z"
   },
   {
    "duration": 8,
    "start_time": "2022-05-23T14:38:09.509Z"
   },
   {
    "duration": 3,
    "start_time": "2022-05-23T14:38:09.519Z"
   },
   {
    "duration": 10,
    "start_time": "2022-05-23T14:38:09.523Z"
   },
   {
    "duration": 71,
    "start_time": "2022-05-23T14:38:09.534Z"
   },
   {
    "duration": 136,
    "start_time": "2022-05-23T14:38:09.607Z"
   },
   {
    "duration": 14,
    "start_time": "2022-05-23T14:38:09.744Z"
   },
   {
    "duration": 169,
    "start_time": "2022-05-23T14:38:09.771Z"
   },
   {
    "duration": 188,
    "start_time": "2022-05-23T14:38:09.941Z"
   },
   {
    "duration": 158,
    "start_time": "2022-05-23T14:38:10.130Z"
   },
   {
    "duration": 2,
    "start_time": "2022-05-23T14:38:10.290Z"
   },
   {
    "duration": 176,
    "start_time": "2022-05-23T14:38:10.294Z"
   },
   {
    "duration": 148,
    "start_time": "2022-05-23T14:38:10.475Z"
   },
   {
    "duration": 108,
    "start_time": "2022-05-23T14:38:10.625Z"
   },
   {
    "duration": 168,
    "start_time": "2022-05-23T14:38:10.734Z"
   },
   {
    "duration": 422,
    "start_time": "2022-05-23T14:38:10.903Z"
   },
   {
    "duration": 3566,
    "start_time": "2022-05-23T14:38:11.327Z"
   },
   {
    "duration": 3,
    "start_time": "2022-05-23T14:38:14.895Z"
   },
   {
    "duration": 5,
    "start_time": "2022-05-23T14:38:14.901Z"
   },
   {
    "duration": 13,
    "start_time": "2022-05-23T14:38:14.908Z"
   },
   {
    "duration": 9,
    "start_time": "2022-05-23T14:38:14.923Z"
   },
   {
    "duration": 37,
    "start_time": "2022-05-23T14:38:14.934Z"
   },
   {
    "duration": 9,
    "start_time": "2022-05-23T14:38:14.973Z"
   },
   {
    "duration": 20,
    "start_time": "2022-05-23T14:38:14.984Z"
   },
   {
    "duration": 29,
    "start_time": "2022-05-23T14:38:15.006Z"
   },
   {
    "duration": 42,
    "start_time": "2022-05-23T14:38:15.036Z"
   },
   {
    "duration": 9,
    "start_time": "2022-05-23T14:38:15.079Z"
   },
   {
    "duration": 12,
    "start_time": "2022-05-23T14:38:15.089Z"
   },
   {
    "duration": 8,
    "start_time": "2022-05-23T14:38:15.102Z"
   },
   {
    "duration": 8,
    "start_time": "2022-05-23T14:38:15.112Z"
   },
   {
    "duration": 85,
    "start_time": "2022-05-23T14:38:15.122Z"
   },
   {
    "duration": 0,
    "start_time": "2022-05-23T14:38:15.208Z"
   },
   {
    "duration": 0,
    "start_time": "2022-05-23T14:38:15.210Z"
   },
   {
    "duration": 0,
    "start_time": "2022-05-23T14:38:15.211Z"
   },
   {
    "duration": 0,
    "start_time": "2022-05-23T14:38:15.212Z"
   },
   {
    "duration": 0,
    "start_time": "2022-05-23T14:38:15.212Z"
   },
   {
    "duration": 0,
    "start_time": "2022-05-23T14:38:15.213Z"
   },
   {
    "duration": 11,
    "start_time": "2022-05-23T14:39:38.286Z"
   },
   {
    "duration": 6,
    "start_time": "2022-05-23T14:41:21.240Z"
   },
   {
    "duration": 5,
    "start_time": "2022-05-23T14:41:45.176Z"
   },
   {
    "duration": 12,
    "start_time": "2022-05-23T15:17:25.066Z"
   },
   {
    "duration": 4,
    "start_time": "2022-05-23T16:40:43.149Z"
   },
   {
    "duration": 4,
    "start_time": "2022-05-23T16:41:09.492Z"
   },
   {
    "duration": 5,
    "start_time": "2022-05-23T16:44:59.405Z"
   },
   {
    "duration": 14,
    "start_time": "2022-05-23T16:50:55.851Z"
   },
   {
    "duration": 4,
    "start_time": "2022-05-23T16:51:15.333Z"
   },
   {
    "duration": 19,
    "start_time": "2022-05-23T16:51:18.498Z"
   },
   {
    "duration": 3,
    "start_time": "2022-05-23T16:52:07.649Z"
   },
   {
    "duration": 4,
    "start_time": "2022-05-23T16:52:08.502Z"
   },
   {
    "duration": 11,
    "start_time": "2022-05-23T16:52:11.773Z"
   },
   {
    "duration": 11,
    "start_time": "2022-05-23T16:53:22.377Z"
   },
   {
    "duration": 10,
    "start_time": "2022-05-23T16:56:34.233Z"
   },
   {
    "duration": 4927,
    "start_time": "2022-05-24T12:36:09.070Z"
   },
   {
    "duration": 4219,
    "start_time": "2022-05-24T12:36:13.999Z"
   },
   {
    "duration": 64,
    "start_time": "2022-05-24T12:36:18.220Z"
   },
   {
    "duration": 4,
    "start_time": "2022-05-24T12:36:18.286Z"
   },
   {
    "duration": 19,
    "start_time": "2022-05-24T12:36:18.291Z"
   },
   {
    "duration": 11,
    "start_time": "2022-05-24T12:36:18.311Z"
   },
   {
    "duration": 9,
    "start_time": "2022-05-24T12:36:18.323Z"
   },
   {
    "duration": 12,
    "start_time": "2022-05-24T12:36:18.334Z"
   },
   {
    "duration": 5,
    "start_time": "2022-05-24T12:36:18.348Z"
   },
   {
    "duration": 7,
    "start_time": "2022-05-24T12:36:18.355Z"
   },
   {
    "duration": 8,
    "start_time": "2022-05-24T12:36:18.363Z"
   },
   {
    "duration": 3,
    "start_time": "2022-05-24T12:36:18.372Z"
   },
   {
    "duration": 10,
    "start_time": "2022-05-24T12:36:18.377Z"
   },
   {
    "duration": 76,
    "start_time": "2022-05-24T12:36:18.388Z"
   },
   {
    "duration": 142,
    "start_time": "2022-05-24T12:36:18.466Z"
   },
   {
    "duration": 13,
    "start_time": "2022-05-24T12:36:18.610Z"
   },
   {
    "duration": 185,
    "start_time": "2022-05-24T12:36:18.625Z"
   },
   {
    "duration": 189,
    "start_time": "2022-05-24T12:36:18.811Z"
   },
   {
    "duration": 156,
    "start_time": "2022-05-24T12:36:19.002Z"
   },
   {
    "duration": 3,
    "start_time": "2022-05-24T12:36:19.159Z"
   },
   {
    "duration": 192,
    "start_time": "2022-05-24T12:36:19.163Z"
   },
   {
    "duration": 150,
    "start_time": "2022-05-24T12:36:19.357Z"
   },
   {
    "duration": 115,
    "start_time": "2022-05-24T12:36:19.508Z"
   },
   {
    "duration": 154,
    "start_time": "2022-05-24T12:36:19.625Z"
   },
   {
    "duration": 460,
    "start_time": "2022-05-24T12:36:19.781Z"
   },
   {
    "duration": 3720,
    "start_time": "2022-05-24T12:36:20.243Z"
   },
   {
    "duration": 3,
    "start_time": "2022-05-24T12:36:23.964Z"
   },
   {
    "duration": 11,
    "start_time": "2022-05-24T12:36:23.970Z"
   },
   {
    "duration": 31,
    "start_time": "2022-05-24T12:36:23.982Z"
   },
   {
    "duration": 11,
    "start_time": "2022-05-24T12:36:24.014Z"
   },
   {
    "duration": 13,
    "start_time": "2022-05-24T12:36:24.027Z"
   },
   {
    "duration": 7,
    "start_time": "2022-05-24T12:36:24.042Z"
   },
   {
    "duration": 20,
    "start_time": "2022-05-24T12:36:24.051Z"
   },
   {
    "duration": 25,
    "start_time": "2022-05-24T12:36:24.073Z"
   },
   {
    "duration": 45,
    "start_time": "2022-05-24T12:36:24.099Z"
   },
   {
    "duration": 9,
    "start_time": "2022-05-24T12:36:24.146Z"
   },
   {
    "duration": 14,
    "start_time": "2022-05-24T12:36:24.157Z"
   },
   {
    "duration": 7,
    "start_time": "2022-05-24T12:36:24.173Z"
   },
   {
    "duration": 6,
    "start_time": "2022-05-24T12:36:24.182Z"
   },
   {
    "duration": 39,
    "start_time": "2022-05-24T12:36:24.190Z"
   },
   {
    "duration": 2,
    "start_time": "2022-05-24T12:36:24.231Z"
   },
   {
    "duration": 5,
    "start_time": "2022-05-24T12:36:24.235Z"
   },
   {
    "duration": 13,
    "start_time": "2022-05-24T12:36:24.242Z"
   },
   {
    "duration": 9,
    "start_time": "2022-05-24T12:36:24.257Z"
   },
   {
    "duration": 3,
    "start_time": "2022-05-24T12:36:24.268Z"
   },
   {
    "duration": 11,
    "start_time": "2022-05-24T12:36:24.273Z"
   },
   {
    "duration": 144,
    "start_time": "2022-05-24T12:36:24.285Z"
   },
   {
    "duration": 0,
    "start_time": "2022-05-24T12:36:24.431Z"
   },
   {
    "duration": 0,
    "start_time": "2022-05-24T12:36:24.432Z"
   },
   {
    "duration": 0,
    "start_time": "2022-05-24T12:36:24.433Z"
   },
   {
    "duration": 0,
    "start_time": "2022-05-24T12:36:24.434Z"
   },
   {
    "duration": 0,
    "start_time": "2022-05-24T12:36:24.435Z"
   },
   {
    "duration": 0,
    "start_time": "2022-05-24T12:36:24.436Z"
   },
   {
    "duration": 12,
    "start_time": "2022-05-24T12:38:37.387Z"
   },
   {
    "duration": 39,
    "start_time": "2022-05-24T12:42:45.278Z"
   },
   {
    "duration": 24,
    "start_time": "2022-05-24T12:45:07.059Z"
   },
   {
    "duration": 16,
    "start_time": "2022-05-24T12:45:14.192Z"
   },
   {
    "duration": 18,
    "start_time": "2022-05-24T12:45:31.015Z"
   },
   {
    "duration": 10,
    "start_time": "2022-05-24T12:45:39.471Z"
   },
   {
    "duration": 13,
    "start_time": "2022-05-24T12:46:01.912Z"
   },
   {
    "duration": 15,
    "start_time": "2022-05-24T12:46:15.166Z"
   },
   {
    "duration": 31,
    "start_time": "2022-05-24T12:46:57.551Z"
   },
   {
    "duration": 26,
    "start_time": "2022-05-24T12:47:06.087Z"
   },
   {
    "duration": 26,
    "start_time": "2022-05-24T12:47:36.122Z"
   },
   {
    "duration": 19,
    "start_time": "2022-05-24T12:48:33.439Z"
   },
   {
    "duration": 28,
    "start_time": "2022-05-24T13:08:25.680Z"
   },
   {
    "duration": 5,
    "start_time": "2022-05-24T13:08:35.644Z"
   },
   {
    "duration": 25,
    "start_time": "2022-05-24T13:18:40.111Z"
   },
   {
    "duration": 14,
    "start_time": "2022-05-24T13:19:00.479Z"
   },
   {
    "duration": 3,
    "start_time": "2022-05-24T13:19:29.249Z"
   },
   {
    "duration": 4,
    "start_time": "2022-05-24T13:19:30.638Z"
   },
   {
    "duration": 433,
    "start_time": "2022-05-24T13:19:31.558Z"
   },
   {
    "duration": 416,
    "start_time": "2022-05-24T13:20:03.359Z"
   },
   {
    "duration": 414,
    "start_time": "2022-05-24T13:20:36.665Z"
   },
   {
    "duration": 579,
    "start_time": "2022-05-24T13:25:13.876Z"
   },
   {
    "duration": 3402,
    "start_time": "2022-05-25T14:33:32.135Z"
   },
   {
    "duration": 2016,
    "start_time": "2022-05-25T14:33:35.540Z"
   },
   {
    "duration": 29,
    "start_time": "2022-05-25T14:33:37.558Z"
   },
   {
    "duration": 3,
    "start_time": "2022-05-25T14:33:37.589Z"
   },
   {
    "duration": 15,
    "start_time": "2022-05-25T14:33:37.595Z"
   },
   {
    "duration": 13,
    "start_time": "2022-05-25T14:33:37.612Z"
   },
   {
    "duration": 9,
    "start_time": "2022-05-25T14:33:37.626Z"
   },
   {
    "duration": 10,
    "start_time": "2022-05-25T14:33:37.636Z"
   },
   {
    "duration": 3,
    "start_time": "2022-05-25T14:33:37.647Z"
   },
   {
    "duration": 8,
    "start_time": "2022-05-25T14:33:37.651Z"
   },
   {
    "duration": 8,
    "start_time": "2022-05-25T14:33:37.674Z"
   },
   {
    "duration": 3,
    "start_time": "2022-05-25T14:33:37.684Z"
   },
   {
    "duration": 14,
    "start_time": "2022-05-25T14:33:37.688Z"
   },
   {
    "duration": 12,
    "start_time": "2022-05-25T14:33:37.704Z"
   },
   {
    "duration": 160,
    "start_time": "2022-05-25T14:33:37.717Z"
   },
   {
    "duration": 5,
    "start_time": "2022-05-25T14:33:37.878Z"
   },
   {
    "duration": 191,
    "start_time": "2022-05-25T14:33:37.884Z"
   },
   {
    "duration": 178,
    "start_time": "2022-05-25T14:33:38.076Z"
   },
   {
    "duration": 138,
    "start_time": "2022-05-25T14:33:38.255Z"
   },
   {
    "duration": 2,
    "start_time": "2022-05-25T14:33:38.394Z"
   },
   {
    "duration": 165,
    "start_time": "2022-05-25T14:33:38.398Z"
   },
   {
    "duration": 141,
    "start_time": "2022-05-25T14:33:38.565Z"
   },
   {
    "duration": 105,
    "start_time": "2022-05-25T14:33:38.707Z"
   },
   {
    "duration": 149,
    "start_time": "2022-05-25T14:33:38.813Z"
   },
   {
    "duration": 396,
    "start_time": "2022-05-25T14:33:38.963Z"
   },
   {
    "duration": 3360,
    "start_time": "2022-05-25T14:33:39.361Z"
   },
   {
    "duration": 2,
    "start_time": "2022-05-25T14:33:42.723Z"
   },
   {
    "duration": 13,
    "start_time": "2022-05-25T14:33:42.727Z"
   },
   {
    "duration": 16,
    "start_time": "2022-05-25T14:33:42.742Z"
   },
   {
    "duration": 23,
    "start_time": "2022-05-25T14:33:42.760Z"
   },
   {
    "duration": 37,
    "start_time": "2022-05-25T14:33:42.785Z"
   },
   {
    "duration": 15,
    "start_time": "2022-05-25T14:33:42.824Z"
   },
   {
    "duration": 34,
    "start_time": "2022-05-25T14:33:42.842Z"
   },
   {
    "duration": 39,
    "start_time": "2022-05-25T14:33:42.878Z"
   },
   {
    "duration": 34,
    "start_time": "2022-05-25T14:33:42.919Z"
   },
   {
    "duration": 14,
    "start_time": "2022-05-25T14:33:42.974Z"
   },
   {
    "duration": 30,
    "start_time": "2022-05-25T14:33:42.990Z"
   },
   {
    "duration": 12,
    "start_time": "2022-05-25T14:33:43.022Z"
   },
   {
    "duration": 16,
    "start_time": "2022-05-25T14:33:43.036Z"
   },
   {
    "duration": 23,
    "start_time": "2022-05-25T14:33:43.054Z"
   },
   {
    "duration": 4,
    "start_time": "2022-05-25T14:33:43.084Z"
   },
   {
    "duration": 6,
    "start_time": "2022-05-25T14:33:43.090Z"
   },
   {
    "duration": 21,
    "start_time": "2022-05-25T14:33:43.098Z"
   },
   {
    "duration": 15,
    "start_time": "2022-05-25T14:33:43.121Z"
   },
   {
    "duration": 5,
    "start_time": "2022-05-25T14:33:43.138Z"
   },
   {
    "duration": 30,
    "start_time": "2022-05-25T14:33:43.145Z"
   },
   {
    "duration": 27,
    "start_time": "2022-05-25T14:33:43.177Z"
   },
   {
    "duration": 3,
    "start_time": "2022-05-25T14:33:43.205Z"
   },
   {
    "duration": 4,
    "start_time": "2022-05-25T14:33:43.210Z"
   },
   {
    "duration": 459,
    "start_time": "2022-05-25T14:33:43.216Z"
   },
   {
    "duration": 640,
    "start_time": "2022-05-25T14:33:43.677Z"
   },
   {
    "duration": 6,
    "start_time": "2022-05-25T14:33:44.319Z"
   },
   {
    "duration": 0,
    "start_time": "2022-05-25T14:33:44.327Z"
   },
   {
    "duration": 0,
    "start_time": "2022-05-25T14:33:44.328Z"
   },
   {
    "duration": 0,
    "start_time": "2022-05-25T14:33:44.330Z"
   },
   {
    "duration": 0,
    "start_time": "2022-05-25T14:33:44.331Z"
   },
   {
    "duration": 0,
    "start_time": "2022-05-25T14:33:44.333Z"
   },
   {
    "duration": 5,
    "start_time": "2022-05-25T14:39:45.672Z"
   },
   {
    "duration": 4,
    "start_time": "2022-05-25T14:39:58.824Z"
   },
   {
    "duration": 297,
    "start_time": "2022-05-25T14:41:33.864Z"
   },
   {
    "duration": 6,
    "start_time": "2022-05-25T14:47:21.468Z"
   },
   {
    "duration": 3,
    "start_time": "2022-05-25T14:47:22.429Z"
   },
   {
    "duration": 19,
    "start_time": "2022-05-25T14:47:24.162Z"
   },
   {
    "duration": 3414,
    "start_time": "2022-05-25T14:50:18.113Z"
   },
   {
    "duration": 2223,
    "start_time": "2022-05-25T14:50:21.529Z"
   },
   {
    "duration": 45,
    "start_time": "2022-05-25T14:50:23.753Z"
   },
   {
    "duration": 3,
    "start_time": "2022-05-25T14:50:23.800Z"
   },
   {
    "duration": 22,
    "start_time": "2022-05-25T14:50:23.805Z"
   },
   {
    "duration": 17,
    "start_time": "2022-05-25T14:50:23.829Z"
   },
   {
    "duration": 8,
    "start_time": "2022-05-25T14:50:23.847Z"
   },
   {
    "duration": 16,
    "start_time": "2022-05-25T14:50:23.856Z"
   },
   {
    "duration": 29,
    "start_time": "2022-05-25T14:50:23.873Z"
   },
   {
    "duration": 22,
    "start_time": "2022-05-25T14:50:23.905Z"
   },
   {
    "duration": 21,
    "start_time": "2022-05-25T14:50:23.929Z"
   },
   {
    "duration": 5,
    "start_time": "2022-05-25T14:50:23.951Z"
   },
   {
    "duration": 12,
    "start_time": "2022-05-25T14:50:23.958Z"
   },
   {
    "duration": 37,
    "start_time": "2022-05-25T14:50:23.972Z"
   },
   {
    "duration": 140,
    "start_time": "2022-05-25T14:50:24.010Z"
   },
   {
    "duration": 5,
    "start_time": "2022-05-25T14:50:24.151Z"
   },
   {
    "duration": 346,
    "start_time": "2022-05-25T14:50:24.157Z"
   },
   {
    "duration": 192,
    "start_time": "2022-05-25T14:50:24.504Z"
   },
   {
    "duration": 198,
    "start_time": "2022-05-25T14:50:24.697Z"
   },
   {
    "duration": 4,
    "start_time": "2022-05-25T14:50:24.897Z"
   },
   {
    "duration": 244,
    "start_time": "2022-05-25T14:50:24.902Z"
   },
   {
    "duration": 211,
    "start_time": "2022-05-25T14:50:25.148Z"
   },
   {
    "duration": 127,
    "start_time": "2022-05-25T14:50:25.361Z"
   },
   {
    "duration": 201,
    "start_time": "2022-05-25T14:50:25.492Z"
   },
   {
    "duration": 428,
    "start_time": "2022-05-25T14:50:25.695Z"
   },
   {
    "duration": 3670,
    "start_time": "2022-05-25T14:50:26.125Z"
   },
   {
    "duration": 3,
    "start_time": "2022-05-25T14:50:29.797Z"
   },
   {
    "duration": 4,
    "start_time": "2022-05-25T14:50:29.803Z"
   },
   {
    "duration": 11,
    "start_time": "2022-05-25T14:50:29.809Z"
   },
   {
    "duration": 10,
    "start_time": "2022-05-25T14:50:29.822Z"
   },
   {
    "duration": 11,
    "start_time": "2022-05-25T14:50:29.834Z"
   },
   {
    "duration": 37,
    "start_time": "2022-05-25T14:50:29.847Z"
   },
   {
    "duration": 21,
    "start_time": "2022-05-25T14:50:29.885Z"
   },
   {
    "duration": 30,
    "start_time": "2022-05-25T14:50:29.908Z"
   },
   {
    "duration": 55,
    "start_time": "2022-05-25T14:50:29.940Z"
   },
   {
    "duration": 8,
    "start_time": "2022-05-25T14:50:29.997Z"
   },
   {
    "duration": 11,
    "start_time": "2022-05-25T14:50:30.007Z"
   },
   {
    "duration": 4,
    "start_time": "2022-05-25T14:50:30.020Z"
   },
   {
    "duration": 12,
    "start_time": "2022-05-25T14:50:30.025Z"
   },
   {
    "duration": 42,
    "start_time": "2022-05-25T14:50:30.039Z"
   },
   {
    "duration": 10,
    "start_time": "2022-05-25T14:50:30.082Z"
   },
   {
    "duration": 9,
    "start_time": "2022-05-25T14:50:30.094Z"
   },
   {
    "duration": 27,
    "start_time": "2022-05-25T14:50:30.105Z"
   },
   {
    "duration": 9,
    "start_time": "2022-05-25T14:50:30.134Z"
   },
   {
    "duration": 9,
    "start_time": "2022-05-25T14:50:30.145Z"
   },
   {
    "duration": 11,
    "start_time": "2022-05-25T14:50:30.155Z"
   },
   {
    "duration": 28,
    "start_time": "2022-05-25T14:50:30.167Z"
   },
   {
    "duration": 4,
    "start_time": "2022-05-25T14:50:30.196Z"
   },
   {
    "duration": 18,
    "start_time": "2022-05-25T14:50:30.201Z"
   },
   {
    "duration": 415,
    "start_time": "2022-05-25T14:50:30.221Z"
   },
   {
    "duration": 621,
    "start_time": "2022-05-25T14:50:30.638Z"
   },
   {
    "duration": 4,
    "start_time": "2022-05-25T14:50:31.260Z"
   },
   {
    "duration": 12,
    "start_time": "2022-05-25T14:50:31.278Z"
   },
   {
    "duration": 90,
    "start_time": "2022-05-25T14:50:31.292Z"
   },
   {
    "duration": 0,
    "start_time": "2022-05-25T14:50:31.383Z"
   },
   {
    "duration": 0,
    "start_time": "2022-05-25T14:50:31.385Z"
   },
   {
    "duration": 0,
    "start_time": "2022-05-25T14:50:31.385Z"
   },
   {
    "duration": 4,
    "start_time": "2022-05-25T14:51:58.839Z"
   },
   {
    "duration": 4,
    "start_time": "2022-05-25T14:51:59.722Z"
   },
   {
    "duration": 15,
    "start_time": "2022-05-25T14:52:00.499Z"
   },
   {
    "duration": 13,
    "start_time": "2022-05-25T14:53:42.795Z"
   },
   {
    "duration": 4,
    "start_time": "2022-05-25T15:08:30.511Z"
   },
   {
    "duration": 4,
    "start_time": "2022-05-25T15:08:31.494Z"
   },
   {
    "duration": 10,
    "start_time": "2022-05-25T15:08:33.274Z"
   },
   {
    "duration": 6,
    "start_time": "2022-05-25T15:10:02.290Z"
   },
   {
    "duration": 3,
    "start_time": "2022-05-25T15:13:16.235Z"
   },
   {
    "duration": 10,
    "start_time": "2022-05-25T15:14:53.059Z"
   },
   {
    "duration": 15,
    "start_time": "2022-05-25T15:15:03.691Z"
   },
   {
    "duration": 14,
    "start_time": "2022-05-25T15:50:08.869Z"
   },
   {
    "duration": 19,
    "start_time": "2022-05-25T15:50:36.191Z"
   },
   {
    "duration": 8,
    "start_time": "2022-05-25T15:51:05.158Z"
   },
   {
    "duration": 10,
    "start_time": "2022-05-25T15:51:32.763Z"
   },
   {
    "duration": 9,
    "start_time": "2022-05-25T15:52:11.246Z"
   },
   {
    "duration": 9,
    "start_time": "2022-05-25T15:52:41.495Z"
   },
   {
    "duration": 9,
    "start_time": "2022-05-25T15:58:00.221Z"
   },
   {
    "duration": 9,
    "start_time": "2022-05-25T15:58:32.867Z"
   },
   {
    "duration": 8,
    "start_time": "2022-05-25T15:59:39.662Z"
   },
   {
    "duration": 9,
    "start_time": "2022-05-25T16:00:01.699Z"
   },
   {
    "duration": 9,
    "start_time": "2022-05-25T16:00:09.803Z"
   },
   {
    "duration": 12,
    "start_time": "2022-05-25T16:00:15.294Z"
   },
   {
    "duration": 12,
    "start_time": "2022-05-25T16:00:35.108Z"
   },
   {
    "duration": 9,
    "start_time": "2022-05-25T16:00:49.246Z"
   },
   {
    "duration": 8,
    "start_time": "2022-05-25T16:00:59.936Z"
   },
   {
    "duration": 6223,
    "start_time": "2022-05-26T12:44:57.490Z"
   },
   {
    "duration": 4318,
    "start_time": "2022-05-26T12:45:03.715Z"
   },
   {
    "duration": 69,
    "start_time": "2022-05-26T12:45:08.034Z"
   },
   {
    "duration": 4,
    "start_time": "2022-05-26T12:45:08.105Z"
   },
   {
    "duration": 24,
    "start_time": "2022-05-26T12:45:08.111Z"
   },
   {
    "duration": 13,
    "start_time": "2022-05-26T12:45:08.136Z"
   },
   {
    "duration": 14,
    "start_time": "2022-05-26T12:45:08.150Z"
   },
   {
    "duration": 19,
    "start_time": "2022-05-26T12:45:08.166Z"
   },
   {
    "duration": 8,
    "start_time": "2022-05-26T12:45:08.187Z"
   },
   {
    "duration": 8,
    "start_time": "2022-05-26T12:45:08.198Z"
   },
   {
    "duration": 14,
    "start_time": "2022-05-26T12:45:08.208Z"
   },
   {
    "duration": 8,
    "start_time": "2022-05-26T12:45:08.223Z"
   },
   {
    "duration": 19,
    "start_time": "2022-05-26T12:45:08.233Z"
   },
   {
    "duration": 71,
    "start_time": "2022-05-26T12:45:08.253Z"
   },
   {
    "duration": 153,
    "start_time": "2022-05-26T12:45:08.326Z"
   },
   {
    "duration": 7,
    "start_time": "2022-05-26T12:45:08.481Z"
   },
   {
    "duration": 229,
    "start_time": "2022-05-26T12:45:08.490Z"
   },
   {
    "duration": 263,
    "start_time": "2022-05-26T12:45:08.721Z"
   },
   {
    "duration": 243,
    "start_time": "2022-05-26T12:45:08.986Z"
   },
   {
    "duration": 3,
    "start_time": "2022-05-26T12:45:09.232Z"
   },
   {
    "duration": 219,
    "start_time": "2022-05-26T12:45:09.237Z"
   },
   {
    "duration": 170,
    "start_time": "2022-05-26T12:45:09.464Z"
   },
   {
    "duration": 144,
    "start_time": "2022-05-26T12:45:09.636Z"
   },
   {
    "duration": 181,
    "start_time": "2022-05-26T12:45:09.782Z"
   },
   {
    "duration": 536,
    "start_time": "2022-05-26T12:45:09.965Z"
   },
   {
    "duration": 3905,
    "start_time": "2022-05-26T12:45:10.502Z"
   },
   {
    "duration": 3,
    "start_time": "2022-05-26T12:45:14.409Z"
   },
   {
    "duration": 47,
    "start_time": "2022-05-26T12:45:14.415Z"
   },
   {
    "duration": 50,
    "start_time": "2022-05-26T12:45:14.463Z"
   },
   {
    "duration": 26,
    "start_time": "2022-05-26T12:45:14.515Z"
   },
   {
    "duration": 48,
    "start_time": "2022-05-26T12:45:14.542Z"
   },
   {
    "duration": 14,
    "start_time": "2022-05-26T12:45:14.592Z"
   },
   {
    "duration": 42,
    "start_time": "2022-05-26T12:45:14.607Z"
   },
   {
    "duration": 51,
    "start_time": "2022-05-26T12:45:14.651Z"
   },
   {
    "duration": 35,
    "start_time": "2022-05-26T12:45:14.703Z"
   },
   {
    "duration": 15,
    "start_time": "2022-05-26T12:45:14.739Z"
   },
   {
    "duration": 43,
    "start_time": "2022-05-26T12:45:14.756Z"
   },
   {
    "duration": 18,
    "start_time": "2022-05-26T12:45:14.801Z"
   },
   {
    "duration": 18,
    "start_time": "2022-05-26T12:45:14.821Z"
   },
   {
    "duration": 34,
    "start_time": "2022-05-26T12:45:14.840Z"
   },
   {
    "duration": 19,
    "start_time": "2022-05-26T12:45:14.877Z"
   },
   {
    "duration": 8,
    "start_time": "2022-05-26T12:45:14.897Z"
   },
   {
    "duration": 22,
    "start_time": "2022-05-26T12:45:14.908Z"
   },
   {
    "duration": 18,
    "start_time": "2022-05-26T12:45:14.932Z"
   },
   {
    "duration": 3,
    "start_time": "2022-05-26T12:45:14.952Z"
   },
   {
    "duration": 26,
    "start_time": "2022-05-26T12:45:14.956Z"
   },
   {
    "duration": 28,
    "start_time": "2022-05-26T12:45:14.984Z"
   },
   {
    "duration": 7,
    "start_time": "2022-05-26T12:45:15.014Z"
   },
   {
    "duration": 16,
    "start_time": "2022-05-26T12:45:15.023Z"
   },
   {
    "duration": 491,
    "start_time": "2022-05-26T12:45:15.040Z"
   },
   {
    "duration": 700,
    "start_time": "2022-05-26T12:45:15.533Z"
   },
   {
    "duration": 4,
    "start_time": "2022-05-26T12:45:16.235Z"
   },
   {
    "duration": 42,
    "start_time": "2022-05-26T12:45:16.241Z"
   },
   {
    "duration": 7,
    "start_time": "2022-05-26T12:45:16.285Z"
   },
   {
    "duration": 17,
    "start_time": "2022-05-26T12:45:16.294Z"
   },
   {
    "duration": 61,
    "start_time": "2022-05-26T12:45:16.313Z"
   },
   {
    "duration": 90,
    "start_time": "2022-05-26T12:45:16.376Z"
   },
   {
    "duration": 26,
    "start_time": "2022-05-26T12:45:16.468Z"
   },
   {
    "duration": 19,
    "start_time": "2022-05-26T12:45:16.566Z"
   },
   {
    "duration": 11,
    "start_time": "2022-05-26T12:45:16.587Z"
   },
   {
    "duration": 78,
    "start_time": "2022-05-26T12:45:16.600Z"
   },
   {
    "duration": 88,
    "start_time": "2022-05-26T12:45:16.681Z"
   },
   {
    "duration": 94,
    "start_time": "2022-05-26T12:45:16.772Z"
   },
   {
    "duration": 14,
    "start_time": "2022-05-26T12:45:16.869Z"
   },
   {
    "duration": 16,
    "start_time": "2022-05-26T12:45:16.885Z"
   },
   {
    "duration": 10,
    "start_time": "2022-05-26T12:45:16.903Z"
   },
   {
    "duration": 4,
    "start_time": "2022-05-26T14:48:03.238Z"
   },
   {
    "duration": 5,
    "start_time": "2022-05-26T14:48:04.052Z"
   },
   {
    "duration": 12,
    "start_time": "2022-05-26T14:50:41.755Z"
   },
   {
    "duration": 13,
    "start_time": "2022-05-26T14:50:50.832Z"
   },
   {
    "duration": 47,
    "start_time": "2022-05-26T14:53:11.059Z"
   },
   {
    "duration": 6,
    "start_time": "2022-05-26T14:53:20.796Z"
   },
   {
    "duration": 5,
    "start_time": "2022-05-26T14:56:37.774Z"
   },
   {
    "duration": 5,
    "start_time": "2022-05-26T14:58:58.563Z"
   },
   {
    "duration": 5,
    "start_time": "2022-05-26T14:58:59.498Z"
   },
   {
    "duration": 6,
    "start_time": "2022-05-26T15:04:46.255Z"
   },
   {
    "duration": 6,
    "start_time": "2022-05-26T15:09:06.256Z"
   },
   {
    "duration": 158,
    "start_time": "2022-05-26T15:11:46.636Z"
   },
   {
    "duration": 3,
    "start_time": "2022-05-26T15:12:58.569Z"
   },
   {
    "duration": 3,
    "start_time": "2022-05-26T15:12:59.818Z"
   },
   {
    "duration": 5,
    "start_time": "2022-05-26T15:13:01.706Z"
   },
   {
    "duration": 7,
    "start_time": "2022-05-26T15:13:05.401Z"
   },
   {
    "duration": 6,
    "start_time": "2022-05-26T15:13:06.647Z"
   },
   {
    "duration": 6,
    "start_time": "2022-05-26T15:13:11.531Z"
   },
   {
    "duration": 102,
    "start_time": "2022-05-26T15:13:12.065Z"
   },
   {
    "duration": 3395,
    "start_time": "2022-05-26T15:13:42.080Z"
   },
   {
    "duration": 2110,
    "start_time": "2022-05-26T15:13:45.478Z"
   },
   {
    "duration": 34,
    "start_time": "2022-05-26T15:13:47.591Z"
   },
   {
    "duration": 5,
    "start_time": "2022-05-26T15:13:47.628Z"
   },
   {
    "duration": 28,
    "start_time": "2022-05-26T15:13:47.635Z"
   },
   {
    "duration": 19,
    "start_time": "2022-05-26T15:13:47.665Z"
   },
   {
    "duration": 10,
    "start_time": "2022-05-26T15:13:47.686Z"
   },
   {
    "duration": 22,
    "start_time": "2022-05-26T15:13:47.698Z"
   },
   {
    "duration": 5,
    "start_time": "2022-05-26T15:13:47.722Z"
   },
   {
    "duration": 13,
    "start_time": "2022-05-26T15:13:47.730Z"
   },
   {
    "duration": 11,
    "start_time": "2022-05-26T15:13:47.765Z"
   },
   {
    "duration": 6,
    "start_time": "2022-05-26T15:13:47.778Z"
   },
   {
    "duration": 13,
    "start_time": "2022-05-26T15:13:47.786Z"
   },
   {
    "duration": 19,
    "start_time": "2022-05-26T15:13:47.801Z"
   },
   {
    "duration": 169,
    "start_time": "2022-05-26T15:13:47.822Z"
   },
   {
    "duration": 7,
    "start_time": "2022-05-26T15:13:47.993Z"
   },
   {
    "duration": 235,
    "start_time": "2022-05-26T15:13:48.002Z"
   },
   {
    "duration": 206,
    "start_time": "2022-05-26T15:13:48.239Z"
   },
   {
    "duration": 156,
    "start_time": "2022-05-26T15:13:48.446Z"
   },
   {
    "duration": 4,
    "start_time": "2022-05-26T15:13:48.604Z"
   },
   {
    "duration": 205,
    "start_time": "2022-05-26T15:13:48.609Z"
   },
   {
    "duration": 201,
    "start_time": "2022-05-26T15:13:48.815Z"
   },
   {
    "duration": 167,
    "start_time": "2022-05-26T15:13:49.019Z"
   },
   {
    "duration": 204,
    "start_time": "2022-05-26T15:13:49.191Z"
   },
   {
    "duration": 423,
    "start_time": "2022-05-26T15:13:49.396Z"
   },
   {
    "duration": 3847,
    "start_time": "2022-05-26T15:13:49.820Z"
   },
   {
    "duration": 3,
    "start_time": "2022-05-26T15:13:53.669Z"
   },
   {
    "duration": 6,
    "start_time": "2022-05-26T15:13:53.676Z"
   },
   {
    "duration": 20,
    "start_time": "2022-05-26T15:13:53.684Z"
   },
   {
    "duration": 14,
    "start_time": "2022-05-26T15:13:53.708Z"
   },
   {
    "duration": 40,
    "start_time": "2022-05-26T15:13:53.724Z"
   },
   {
    "duration": 11,
    "start_time": "2022-05-26T15:13:53.767Z"
   },
   {
    "duration": 18,
    "start_time": "2022-05-26T15:13:53.780Z"
   },
   {
    "duration": 27,
    "start_time": "2022-05-26T15:13:53.800Z"
   },
   {
    "duration": 54,
    "start_time": "2022-05-26T15:13:53.829Z"
   },
   {
    "duration": 10,
    "start_time": "2022-05-26T15:13:53.885Z"
   },
   {
    "duration": 15,
    "start_time": "2022-05-26T15:13:53.897Z"
   },
   {
    "duration": 7,
    "start_time": "2022-05-26T15:13:53.913Z"
   },
   {
    "duration": 7,
    "start_time": "2022-05-26T15:13:53.922Z"
   },
   {
    "duration": 41,
    "start_time": "2022-05-26T15:13:53.931Z"
   },
   {
    "duration": 3,
    "start_time": "2022-05-26T15:13:53.974Z"
   },
   {
    "duration": 7,
    "start_time": "2022-05-26T15:13:53.978Z"
   },
   {
    "duration": 16,
    "start_time": "2022-05-26T15:13:53.987Z"
   },
   {
    "duration": 10,
    "start_time": "2022-05-26T15:13:54.004Z"
   },
   {
    "duration": 4,
    "start_time": "2022-05-26T15:13:54.015Z"
   },
   {
    "duration": 7,
    "start_time": "2022-05-26T15:13:54.020Z"
   },
   {
    "duration": 56,
    "start_time": "2022-05-26T15:13:54.028Z"
   },
   {
    "duration": 3,
    "start_time": "2022-05-26T15:13:54.085Z"
   },
   {
    "duration": 5,
    "start_time": "2022-05-26T15:13:54.090Z"
   },
   {
    "duration": 490,
    "start_time": "2022-05-26T15:13:54.096Z"
   },
   {
    "duration": 604,
    "start_time": "2022-05-26T15:13:54.590Z"
   },
   {
    "duration": 5,
    "start_time": "2022-05-26T15:13:55.195Z"
   },
   {
    "duration": 8,
    "start_time": "2022-05-26T15:13:55.202Z"
   },
   {
    "duration": 7,
    "start_time": "2022-05-26T15:13:55.211Z"
   },
   {
    "duration": 16,
    "start_time": "2022-05-26T15:13:55.220Z"
   },
   {
    "duration": 14,
    "start_time": "2022-05-26T15:13:55.267Z"
   },
   {
    "duration": 10,
    "start_time": "2022-05-26T15:13:55.365Z"
   },
   {
    "duration": 89,
    "start_time": "2022-05-26T15:13:55.380Z"
   },
   {
    "duration": 8,
    "start_time": "2022-05-26T15:13:55.470Z"
   },
   {
    "duration": 8,
    "start_time": "2022-05-26T15:13:55.479Z"
   },
   {
    "duration": 75,
    "start_time": "2022-05-26T15:13:55.490Z"
   },
   {
    "duration": 10,
    "start_time": "2022-05-26T15:13:55.567Z"
   },
   {
    "duration": 92,
    "start_time": "2022-05-26T15:13:55.580Z"
   },
   {
    "duration": 93,
    "start_time": "2022-05-26T15:13:55.673Z"
   },
   {
    "duration": 10,
    "start_time": "2022-05-26T15:13:55.768Z"
   },
   {
    "duration": 10,
    "start_time": "2022-05-26T15:13:55.780Z"
   },
   {
    "duration": 4,
    "start_time": "2022-05-26T15:13:55.791Z"
   },
   {
    "duration": 6,
    "start_time": "2022-05-26T15:13:55.797Z"
   },
   {
    "duration": 74,
    "start_time": "2022-05-26T15:13:55.805Z"
   },
   {
    "duration": 8,
    "start_time": "2022-05-26T15:13:55.881Z"
   },
   {
    "duration": 5,
    "start_time": "2022-05-26T15:13:55.966Z"
   },
   {
    "duration": 8,
    "start_time": "2022-05-26T15:13:55.973Z"
   },
   {
    "duration": 6,
    "start_time": "2022-05-26T15:13:55.983Z"
   },
   {
    "duration": 7,
    "start_time": "2022-05-26T15:13:55.991Z"
   },
   {
    "duration": 7,
    "start_time": "2022-05-26T15:13:55.999Z"
   },
   {
    "duration": 159,
    "start_time": "2022-05-26T15:13:56.007Z"
   },
   {
    "duration": 5,
    "start_time": "2022-05-26T15:18:29.805Z"
   },
   {
    "duration": 4,
    "start_time": "2022-05-26T15:18:31.658Z"
   },
   {
    "duration": 5,
    "start_time": "2022-05-26T15:18:34.362Z"
   },
   {
    "duration": 5,
    "start_time": "2022-05-26T15:18:35.308Z"
   },
   {
    "duration": 5,
    "start_time": "2022-05-26T15:18:38.772Z"
   },
   {
    "duration": 27,
    "start_time": "2022-05-26T15:18:39.517Z"
   },
   {
    "duration": 5,
    "start_time": "2022-05-26T15:20:01.388Z"
   },
   {
    "duration": 14,
    "start_time": "2022-05-26T15:20:07.018Z"
   },
   {
    "duration": 10,
    "start_time": "2022-05-26T15:22:30.609Z"
   }
  ],
  "kernelspec": {
   "display_name": "Python 3 (ipykernel)",
   "language": "python",
   "name": "python3"
  },
  "language_info": {
   "codemirror_mode": {
    "name": "ipython",
    "version": 3
   },
   "file_extension": ".py",
   "mimetype": "text/x-python",
   "name": "python",
   "nbconvert_exporter": "python",
   "pygments_lexer": "ipython3",
   "version": "3.9.5"
  },
  "toc": {
   "base_numbering": 1,
   "nav_menu": {},
   "number_sections": true,
   "sideBar": true,
   "skip_h1_title": true,
   "title_cell": "Table of Contents",
   "title_sidebar": "Contents",
   "toc_cell": false,
   "toc_position": {},
   "toc_section_display": true,
   "toc_window_display": false
  }
 },
 "nbformat": 4,
 "nbformat_minor": 4
}
